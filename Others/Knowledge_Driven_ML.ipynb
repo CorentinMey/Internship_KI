{
 "cells": [
  {
   "cell_type": "markdown",
   "id": "0c92a245-7c48-4c9f-988a-16b5d1b63a35",
   "metadata": {},
   "source": [
    "Python script to use genes from the Differential Expression Analysis (DEA) results to build a knowledge driven machine learning model. The goal is to establish some rules in function of the expression of the most significantly different genes to recognize each cell type."
   ]
  },
  {
   "cell_type": "markdown",
   "id": "cb06ad00-101c-4802-b64a-157a7d9a5de7",
   "metadata": {},
   "source": [
    "# Import"
   ]
  },
  {
   "cell_type": "code",
   "execution_count": 1,
   "id": "e92dc8bd-953c-494c-8783-3d809d410629",
   "metadata": {},
   "outputs": [],
   "source": [
    "import anndata as ad\n",
    "import pandas as pd\n",
    "import scanpy as sc\n",
    "import seaborn as sns\n",
    "import matplotlib.pyplot as plt\n",
    "import numpy as np"
   ]
  },
  {
   "cell_type": "markdown",
   "id": "87d51de3-6cc2-47c3-b4fd-87822f21f938",
   "metadata": {},
   "source": [
    "# Input"
   ]
  },
  {
   "cell_type": "markdown",
   "id": "8596d145-e74d-48f4-b3c9-f2e8d043db1e",
   "metadata": {},
   "source": [
    "Anndata object with transcription data which are normalized, Log1p transformed, batch corrected and only the most 350 variables genes are kept."
   ]
  },
  {
   "cell_type": "code",
   "execution_count": 2,
   "id": "a07cc511-d5d2-4073-b5b8-aa53ee148fb3",
   "metadata": {},
   "outputs": [],
   "source": [
    "adata= ad.read_h5ad(\"/disk2/user/cormey/outputs/Transcription_objects/034_RJ\")"
   ]
  },
  {
   "cell_type": "markdown",
   "id": "b0b12b61-ff69-41c4-82d4-0994ca41fe1d",
   "metadata": {},
   "source": [
    "# Output"
   ]
  },
  {
   "cell_type": "markdown",
   "id": "9ebed648-04f4-45b4-b088-e01347d0b54a",
   "metadata": {},
   "source": [
    "Some graphs to visualize the performance of the machine learning and the quality of the data"
   ]
  },
  {
   "cell_type": "markdown",
   "id": "1b16be4e-9a68-47b9-8f45-7723cb92db59",
   "metadata": {},
   "source": [
    "# Remove outs cells from the dataset"
   ]
  },
  {
   "cell_type": "code",
   "execution_count": 3,
   "id": "25db9145-064d-4770-92e8-108c50b242c6",
   "metadata": {},
   "outputs": [],
   "source": [
    "# Define the cell type to filter out\n",
    "cell_type_to_remove = 'Out'\n",
    "\n",
    "# Create a boolean mask for rows where the cell type is not 'out'\n",
    "mask = adata.obs['annotation'] != cell_type_to_remove\n",
    "\n",
    "# Apply the mask to subset the AnnData object\n",
    "adata = adata[mask, :]"
   ]
  },
  {
   "cell_type": "markdown",
   "id": "48aa111d-79b9-4d8a-a4ec-5258794d39f2",
   "metadata": {},
   "source": [
    "# Transform the dataset to keep only data about the most significantly different genes"
   ]
  },
  {
   "cell_type": "code",
   "execution_count": 4,
   "id": "a3a7927c-cbf3-4354-a3ff-f0524afcd961",
   "metadata": {},
   "outputs": [],
   "source": [
    "up_regulated_genes=['ENSG00000156234',\n",
    " 'ENSG00000189058',\n",
    " 'ENSG00000211892',\n",
    " 'ENSG00000211896',\n",
    " 'ENSG00000211677',\n",
    " 'ENSG00000211592',\n",
    " 'ENSG00000211675',\n",
    " 'ENSG00000164692',\n",
    " 'ENSG00000211892',\n",
    " 'ENSG00000211592',\n",
    " 'ENSG00000211675',\n",
    " 'ENSG00000164692',\n",
    " 'ENSG00000108821',\n",
    " 'ENSG00000189058',\n",
    " 'ENSG00000168542',\n",
    " 'ENSG00000211679',\n",
    " 'ENSG00000206503',\n",
    " 'ENSG00000189058',\n",
    " 'ENSG00000102265',\n",
    " 'ENSG00000124935',\n",
    " 'ENSG00000142102',\n",
    " 'ENSG00000196405',\n",
    " 'ENSG00000174444',\n",
    " 'ENSG00000185499',\n",
    " 'ENSG00000161016',\n",
    " 'ENSG00000160180',\n",
    " 'ENSG00000139625',\n",
    " 'ENSG00000221978',\n",
    " 'ENSG00000187954',\n",
    " 'ENSG00000206503',\n",
    " 'ENSG00000176978',\n",
    " 'ENSG00000162585',\n",
    " 'ENSG00000108465',\n",
    " 'ENSG00000158106',\n",
    " 'ENSG00000204580',\n",
    " 'ENSG00000124935',\n",
    " 'ENSG00000115486',\n",
    " 'ENSG00000092820',\n",
    " 'ENSG00000138495',\n",
    " 'ENSG00000167283',\n",
    " 'ENSG00000160972',\n",
    " 'ENSG00000182087',\n",
    " 'ENSG00000203667',\n",
    " 'ENSG00000147684',\n",
    " 'ENSG00000173272',\n",
    " 'ENSG00000143248',\n",
    " 'ENSG00000172551',\n",
    " 'ENSG00000128422',\n",
    " 'ENSG00000129351',\n",
    " 'ENSG00000174903']\n",
    "down_regulated_genes=['ENSG00000174444',\n",
    " 'ENSG00000196405',\n",
    " 'ENSG00000142102',\n",
    " 'ENSG00000211896',\n",
    " 'ENSG00000111639',\n",
    " 'ENSG00000100387',\n",
    " 'ENSG00000160972',\n",
    " 'ENSG00000172551',\n",
    " 'ENSG00000117523',\n",
    " 'ENSG00000140983',\n",
    " 'ENSG00000155096',\n",
    " 'ENSG00000108465',\n",
    " 'ENSG00000130066',\n",
    " 'ENSG00000133639',\n",
    " 'ENSG00000174903',\n",
    " 'ENSG00000203667',\n",
    " 'ENSG00000181029',\n",
    " 'ENSG00000138495',\n",
    " 'ENSG00000211677',\n",
    " 'ENSG00000115486',\n",
    " 'ENSG00000030582',\n",
    " 'ENSG00000139625',\n",
    " 'ENSG00000158106',\n",
    " 'ENSG00000182087',\n",
    " 'ENSG00000128422',\n",
    " 'ENSG00000147684',\n",
    " 'ENSG00000092820',\n",
    " 'ENSG00000112081',\n",
    " 'ENSG00000173272',\n",
    " 'ENSG00000176978',\n",
    " 'ENSG00000110958',\n",
    " 'ENSG00000167283',\n",
    " 'ENSG00000204580',\n",
    " 'ENSG00000187954',\n",
    " 'ENSG00000211675',\n",
    " 'ENSG00000162585',\n",
    " 'ENSG00000221978',\n",
    " 'ENSG00000143248',\n",
    " 'ENSG00000221983',\n",
    " 'ENSG00000211592',\n",
    " 'ENSG00000160180',\n",
    " 'ENSG00000196405',\n",
    " 'ENSG00000142102',\n",
    " 'ENSG00000174444',\n",
    " 'ENSG00000206503',\n",
    " 'ENSG00000185499',\n",
    " 'ENSG00000211892',\n",
    " 'ENSG00000161016',\n",
    " 'ENSG00000132465',\n",
    " 'ENSG00000168542',\n",
    " 'ENSG00000108821',\n",
    " 'ENSG00000164692',\n",
    " 'ENSG00000189058']"
   ]
  },
  {
   "cell_type": "code",
   "execution_count": 5,
   "id": "79c2ae20-ec86-43c3-8a43-69fd6349d8b3",
   "metadata": {},
   "outputs": [],
   "source": [
    "gene_list=[]\n",
    "for gene in down_regulated_genes:\n",
    "    gene_list.append(gene)\n",
    "for gene in up_regulated_genes:\n",
    "    if gene not in gene_list: #Ensure we don't have 2 times the same gene\n",
    "        gene_list.append(gene)\n",
    "# Get indices of genes in gene_list that are present in var_names\n",
    "gene_indices = np.where(np.isin(adata.var_names, gene_list))[0]\n",
    "# Filter X matrix\n",
    "filtered_X = adata.X[:, gene_indices]\n",
    "adata = adata[:, gene_indices]  # Update adata with filtered X matrix"
   ]
  },
  {
   "cell_type": "code",
   "execution_count": 6,
   "id": "16e38de3-cb8f-409f-bf4c-ea58168afa1e",
   "metadata": {},
   "outputs": [
    {
     "data": {
      "text/plain": [
       "View of AnnData object with n_obs × n_vars = 9390 × 55\n",
       "    obs: 'batch', 'annotation'\n",
       "    var: 'highly_variable', 'means', 'dispersions', 'dispersions_norm', 'highly_variable_nbatches', 'highly_variable_intersection'\n",
       "    uns: 'hvg', 'log1p'"
      ]
     },
     "execution_count": 6,
     "metadata": {},
     "output_type": "execute_result"
    }
   ],
   "source": [
    "adata"
   ]
  },
  {
   "cell_type": "code",
   "execution_count": 7,
   "id": "f6fd7b28-4013-4168-9fe7-6aec679cc0f4",
   "metadata": {},
   "outputs": [],
   "source": [
    "#List of the 10 most important genes in random forest model\n",
    "liste=['ENSG00000164692',\n",
    " 'ENSG00000189058',\n",
    " 'ENSG00000108821',\n",
    " 'ENSG00000160180',\n",
    " 'ENSG00000211592',\n",
    " 'ENSG00000174444',\n",
    " 'ENSG00000161016',\n",
    " 'ENSG00000221983',\n",
    " 'ENSG00000124935',\n",
    " 'ENSG00000211892']"
   ]
  },
  {
   "cell_type": "code",
   "execution_count": 8,
   "id": "e823eb7d-f2b1-4fe6-b0db-cb5081c02d46",
   "metadata": {},
   "outputs": [
    {
     "name": "stdout",
     "output_type": "stream",
     "text": [
      "10\n"
     ]
    }
   ],
   "source": [
    "x=0\n",
    "for gene in liste:\n",
    "    if gene in gene_list:\n",
    "        x+=1\n",
    "\n",
    "print(x)"
   ]
  },
  {
   "cell_type": "code",
   "execution_count": 9,
   "id": "8e0ff142-021a-450a-a8d3-fb4fd9338a12",
   "metadata": {},
   "outputs": [],
   "source": [
    "# All the most important genes are in the list selected"
   ]
  },
  {
   "cell_type": "markdown",
   "id": "8b10e6a2-bdec-4e74-bc0c-08be0a8f845a",
   "metadata": {},
   "source": [
    "# Input the list of genes specifics to each cell types"
   ]
  },
  {
   "cell_type": "code",
   "execution_count": 10,
   "id": "02f31127-c7a2-4313-9506-0dc7962c98e4",
   "metadata": {},
   "outputs": [],
   "source": [
    "S_genes_down= ['ENSG00000100387', 'ENSG00000160972', 'ENSG00000172551', 'ENSG00000140983', 'ENSG00000203667', 'ENSG00000138495',\n",
    " 'ENSG00000115486', 'ENSG00000139625', 'ENSG00000158106', 'ENSG00000128422', 'ENSG00000176978', 'ENSG00000204580', 'ENSG00000187954',\n",
    " 'ENSG00000162585', 'ENSG00000143248', 'ENSG00000142102', 'ENSG00000206503']"
   ]
  },
  {
   "cell_type": "code",
   "execution_count": 11,
   "id": "be4e1e43-6495-4c93-934e-e1ad3e018025",
   "metadata": {},
   "outputs": [],
   "source": [
    "T_genes_down= ['ENSG00000189058']"
   ]
  },
  {
   "cell_type": "code",
   "execution_count": 12,
   "id": "f9663c37-6fec-4379-9c19-e68b011126ae",
   "metadata": {},
   "outputs": [],
   "source": [
    "M_genes_down= ['ENSG00000142102']"
   ]
  },
  {
   "cell_type": "code",
   "execution_count": 13,
   "id": "5b28b168-d654-4565-8585-0ecafc396f4c",
   "metadata": {},
   "outputs": [],
   "source": [
    "T_genes_up=['ENSG00000142102', 'ENSG00000196405', 'ENSG00000139625', 'ENSG00000108465', 'ENSG00000158106', 'ENSG00000115486',\n",
    " 'ENSG00000138495', 'ENSG00000160972']"
   ]
  },
  {
   "cell_type": "code",
   "execution_count": 14,
   "id": "1b7d1b32-b0c4-4f82-bfd1-793c81f745f9",
   "metadata": {},
   "outputs": [],
   "source": [
    "M_genes_up=['ENSG00000211892', 'ENSG00000211679']"
   ]
  },
  {
   "cell_type": "code",
   "execution_count": 15,
   "id": "28477858-0173-4bb0-9ab7-a6eeb29c8b81",
   "metadata": {},
   "outputs": [],
   "source": [
    "I_genes_up=['ENSG00000211892', 'ENSG00000211896', 'ENSG00000211677']"
   ]
  },
  {
   "cell_type": "code",
   "execution_count": 107,
   "id": "04039a34-3ee8-4bd1-8b67-2d3e17cc0858",
   "metadata": {},
   "outputs": [],
   "source": [
    "#Function to find the mean expression value for a list of gene and for a cell type\n",
    "#Permit to find good parameters to distinguish different cell types\n",
    "\n",
    "def identify_mean_by_cell_type(liste_gene, annotation): \n",
    "\n",
    "    cells = adata[adata.obs[\"annotation\"] == annotation] #choose a cell type to evaluate its mean value for certain genes\n",
    "    \n",
    "    S2_genes=[]\n",
    "    \n",
    "    # Filter genes of interest\n",
    "    gene_indices = [cells.var_names.get_loc(gene) for gene in liste_gene]\n",
    "    X_filtered = cells.X[:, gene_indices]\n",
    "    X_filtered=X_filtered.toarray()\n",
    "    \n",
    "    # Calculate mean and std\n",
    "    mean_values = np.mean(X_filtered, axis=0)\n",
    "    std_values = np.std(X_filtered, axis=0)\n",
    "    \n",
    "    # Stock in dataframe\n",
    "    results = pd.DataFrame({\n",
    "        'Gene': liste_gene,\n",
    "        'Mean': mean_values,\n",
    "        'Standard Deviation': std_values\n",
    "    })\n",
    "    \n",
    "    #Select only stromal genes with a std_value < 0.2 and a mean value < 0.1\n",
    "    #results=results[results[\"Mean\"]<0.1]\n",
    "    #results=results[results[\"Standard Deviation\"]<0.2]\n",
    "    \n",
    "    #for gene in results[\"Gene\"]:\n",
    "        #S2_genes.append(gene)\n",
    "    \n",
    "    return(np.mean(results[\"Mean\"], axis=0))"
   ]
  },
  {
   "cell_type": "code",
   "execution_count": 108,
   "id": "66686288-7c78-4ecd-880c-b74bea0a272b",
   "metadata": {},
   "outputs": [
    {
     "name": "stdout",
     "output_type": "stream",
     "text": [
      "0.07746110233680917\n",
      "0.059355660666561165\n",
      "0.05322895799357024\n",
      "0.06038372868218128\n",
      "0.04378882955995926\n",
      "nan\n"
     ]
    }
   ],
   "source": [
    "print(identify_mean_by_cell_type(S_genes_down, \"Tumor\"))\n",
    "print(identify_mean_by_cell_type(S_genes_down, \"Mixed\"))\n",
    "print(identify_mean_by_cell_type(S_genes_down, \"Fat\"))\n",
    "print(identify_mean_by_cell_type(S_genes_down, \"Immune cells\"))\n",
    "print(identify_mean_by_cell_type(S_genes_down, \"Stroma\"))\n",
    "print(identify_mean_by_cell_type(S_genes_down, \"Benign breast\"))"
   ]
  },
  {
   "cell_type": "code",
   "execution_count": 109,
   "id": "8dda2b8e-0bf5-4001-b6c6-e48368af56d1",
   "metadata": {},
   "outputs": [
    {
     "data": {
      "image/png": "[encoded data removed]",
      "text/plain": [
       "<Figure size 1000x600 with 1 Axes>"
      ]
     },
     "metadata": {},
     "output_type": "display_data"
    }
   ],
   "source": [
    "# List of annotations to evaluate\n",
    "annotations = [\"Mixed\", \"Fat\", \"Immune cells\", \"Stroma\", \"Benign breast\", \"Tumor\"]\n",
    "all_results = {}\n",
    "\n",
    "# Collect the results for each annotation\n",
    "for annotation in annotations:\n",
    "    results = identify_mean_by_cell_type(S_genes_down, annotation)\n",
    "    if results==None:\n",
    "        results=0\n",
    "    all_results[annotation] = results\n",
    "\n",
    "keys = list(all_results.keys())\n",
    "values = list(all_results.values())\n",
    "\n",
    "plt.figure(figsize=(10, 6))\n",
    "plt.bar(keys, values, color='skyblue')\n",
    "\n",
    "plt.xlabel('Cell Types')\n",
    "plt.ylabel('Values')\n",
    "plt.title('Histogram of Values by Cell Type')\n",
    "\n",
    "plt.xticks(rotation=45, ha='right')\n",
    "\n",
    "plt.tight_layout()\n",
    "plt.show()"
   ]
  },
  {
   "cell_type": "markdown",
   "id": "860d41bd-28d4-4c88-8fce-3fd83fd89d04",
   "metadata": {},
   "source": [
    "# Establish some rules "
   ]
  },
  {
   "cell_type": "markdown",
   "id": "233fadd7-e1c3-4285-88cd-e1f52e7ade4f",
   "metadata": {},
   "source": [
    "## Stroma cells"
   ]
  },
  {
   "cell_type": "code",
   "execution_count": 82,
   "id": "544a3531-8741-4911-8c1e-19f9723cd1a6",
   "metadata": {},
   "outputs": [],
   "source": [
    "def stroma_evaluation(row_index):\n",
    "    values_of_interest = adata.X[row_index, adata.var_names.isin(S_genes_down)]\n",
    "    average_value = np.mean(values_of_interest)\n",
    "    if average_value<0.045:\n",
    "        return True\n",
    "    else:\n",
    "        return False"
   ]
  },
  {
   "cell_type": "markdown",
   "id": "2be86840-1296-4256-ab50-fa385d19ada5",
   "metadata": {},
   "source": [
    "## Tumor cells"
   ]
  },
  {
   "cell_type": "code",
   "execution_count": 47,
   "id": "5d240f16-171b-4825-b233-fb645d79414f",
   "metadata": {},
   "outputs": [],
   "source": [
    "def tumor_evaluation_up(row_index):\n",
    "    values_of_interest = adata.X[row_index, adata.var_names.isin(T_genes_up)]\n",
    "    average_value = np.mean(values_of_interest)\n",
    "    if average_value>0.09:\n",
    "        return True\n",
    "    else:\n",
    "        return False"
   ]
  },
  {
   "cell_type": "code",
   "execution_count": 50,
   "id": "102a6231-ef1b-4656-b074-0d761c4750d1",
   "metadata": {},
   "outputs": [],
   "source": [
    "def tumor_evaluation_down(row_index):\n",
    "    values_of_interest = adata.X[row_index, adata.var_names.isin(T_genes_down)]\n",
    "    average_value = np.mean(values_of_interest)\n",
    "    if average_value<0.30:\n",
    "        return True\n",
    "    else:\n",
    "        return False"
   ]
  },
  {
   "cell_type": "markdown",
   "id": "4c9192d0-7403-4a95-b6c7-70da1a28f384",
   "metadata": {},
   "source": [
    "## Immune cells"
   ]
  },
  {
   "cell_type": "code",
   "execution_count": 42,
   "id": "a9f8f810-7019-44e6-a68d-6fb932fe733e",
   "metadata": {},
   "outputs": [],
   "source": [
    "def immune_evaluation_up(row_index):\n",
    "    values_of_interest = adata.X[row_index, adata.var_names.isin(I_genes_up)]\n",
    "    average_value = np.mean(values_of_interest)\n",
    "    if average_value>0.41:\n",
    "        return True\n",
    "    else:\n",
    "        return False"
   ]
  },
  {
   "cell_type": "markdown",
   "id": "bbe874d8-a6d0-45cf-bbc8-a20a9f7b0542",
   "metadata": {},
   "source": [
    "## Benign Breast"
   ]
  },
  {
   "cell_type": "code",
   "execution_count": 55,
   "id": "d3d03b35-dd2d-4c8e-8911-9176bae130c6",
   "metadata": {},
   "outputs": [],
   "source": [
    "def breast_evaluation_up(row_index):\n",
    "    values_of_interest = adata.X[row_index, adata.var_names.isin(T_genes_down)]\n",
    "    average_value = np.mean(values_of_interest)\n",
    "    if average_value==None:\n",
    "        return True\n",
    "    else:\n",
    "        return False"
   ]
  },
  {
   "cell_type": "markdown",
   "id": "31f6e086-70a4-4e10-89e7-e5bdf80ad7eb",
   "metadata": {},
   "source": [
    "## Fat cells"
   ]
  },
  {
   "cell_type": "code",
   "execution_count": null,
   "id": "37844420-e0f1-49f5-953d-02004a6ef520",
   "metadata": {},
   "outputs": [],
   "source": []
  },
  {
   "cell_type": "markdown",
   "id": "3cf04cd5-ec7b-465c-81a1-875d4fa282ef",
   "metadata": {},
   "source": [
    "## Mixed cells"
   ]
  },
  {
   "cell_type": "code",
   "execution_count": 37,
   "id": "1b0abce2-35ac-4c32-bc03-7a524bbb205f",
   "metadata": {},
   "outputs": [],
   "source": [
    "def mixed_evaluation_up(row_index):\n",
    "    values_of_interest = adata.X[row_index, adata.var_names.isin(M_genes_up)]\n",
    "    average_value = np.mean(values_of_interest)\n",
    "    if average_value>0.47 and average_value<0.54:\n",
    "        return True\n",
    "    else:\n",
    "        return False"
   ]
  },
  {
   "cell_type": "code",
   "execution_count": 53,
   "id": "55f096df-5a35-4a97-99b4-fb3ff26929dc",
   "metadata": {},
   "outputs": [],
   "source": [
    "def mixed_evaluation_down(row_index):\n",
    "    values_of_interest = adata.X[row_index, adata.var_names.isin(M_genes_down)]\n",
    "    average_value = np.mean(values_of_interest)\n",
    "    if average_value<0.14:\n",
    "        return True\n",
    "    else:\n",
    "        return False"
   ]
  },
  {
   "cell_type": "markdown",
   "id": "b20237fb-8fa9-415a-a4fc-882bd26d98b1",
   "metadata": {},
   "source": [
    "# Perform the Machine Learning"
   ]
  },
  {
   "cell_type": "code",
   "execution_count": 114,
   "id": "5f74d999-a78d-48fe-a583-79ef41d9bb00",
   "metadata": {},
   "outputs": [
    {
     "name": "stdout",
     "output_type": "stream",
     "text": [
      "{'Stroma': 0.4, 'Immune cells': 0, 'Tumor': 0.6, 'Mixed': 0.5, 'Benign Breast': 0, 'Fat': 0}\n",
      "{'Stroma': 0.4, 'Immune cells': 0, 'Tumor': 0, 'Mixed': 0.5, 'Benign Breast': 0, 'Fat': 0}\n",
      "Mixed ne correspond pas à Benign breast\n",
      "{'Stroma': 0.4, 'Immune cells': 0, 'Tumor': 0, 'Mixed': 0.5, 'Benign Breast': 0, 'Fat': 0}\n",
      "Mixed ne correspond pas à Tumor\n",
      "{'Stroma': 0, 'Immune cells': 0, 'Tumor': 0.6, 'Mixed': 0.5, 'Benign Breast': 0, 'Fat': 0}\n",
      "Tumor ne correspond pas à Mixed\n",
      "{'Stroma': 0, 'Immune cells': 0, 'Tumor': 0, 'Mixed': 0.5, 'Benign Breast': 0, 'Fat': 0}\n",
      "Mixed ne correspond pas à Stroma\n",
      "{'Stroma': 0, 'Immune cells': 0, 'Tumor': 0.6, 'Mixed': 0.5, 'Benign Breast': 0, 'Fat': 0}\n",
      "Tumor ne correspond pas à Mixed\n",
      "{'Stroma': 0.4, 'Immune cells': 0, 'Tumor': 0, 'Mixed': 0.5, 'Benign Breast': 0, 'Fat': 0}\n",
      "{'Stroma': 0.4, 'Immune cells': 0, 'Tumor': 0.6, 'Mixed': 0.5, 'Benign Breast': 0, 'Fat': 0}\n",
      "Tumor ne correspond pas à Mixed\n",
      "{'Stroma': 0.4, 'Immune cells': 0, 'Tumor': 0, 'Mixed': 0.5, 'Benign Breast': 0, 'Fat': 0}\n",
      "Mixed ne correspond pas à Tumor\n",
      "{'Stroma': 0.4, 'Immune cells': 0, 'Tumor': 0.6, 'Mixed': 0.5, 'Benign Breast': 0, 'Fat': 0}\n",
      "Tumor ne correspond pas à Stroma\n",
      "2\n",
      "8\n"
     ]
    }
   ],
   "source": [
    "# Access the observation metadata\n",
    "obs_metadata = adata.obs\n",
    "dico_results={\n",
    "\"Stroma\":0,\n",
    "\"Immune cells\":0,\n",
    "\"Tumor\":0,\n",
    "\"Mixed\":0,\n",
    "\"Benign Breast\":0,\n",
    "\"Fat\":0\n",
    "}\n",
    "V=0\n",
    "F=0\n",
    "\n",
    "# Loop through all rows of the matrix\n",
    "#for i in range(adata.X.shape[0]):\n",
    "for i in range(10):\n",
    "    SV=0\n",
    "    IV=0\n",
    "    TV=0\n",
    "    MV=0\n",
    "    BV=0\n",
    "    FV=0\n",
    "    # Access the data for row i\n",
    "    if stroma_evaluation(i)==True:\n",
    "        SV=0.4\n",
    "    if tumor_evaluation_up(i)==True:\n",
    "        TV=0.6\n",
    "    if tumor_evaluation_down(i)==True:\n",
    "        TV+=0.6\n",
    "    if immune_evaluation_up(i)==True:\n",
    "        IV=0.6\n",
    "    if breast_evaluation_up(i)==True:\n",
    "        BV=1\n",
    "    if mixed_evaluation_up(i)==True:\n",
    "        MV=0.5\n",
    "    if mixed_evaluation_down(i)==True:\n",
    "        MV+=0.5\n",
    "    variables = {'Stroma': SV, 'Immune cells': IV, 'Tumor': TV, 'Mixed': MV, 'Benign Breast': BV, 'Fat': FV}\n",
    "    print(variables)\n",
    "    max_variable = max(variables, key=variables.get)\n",
    "    \n",
    "    # Access the metadata for the observation in row i\n",
    "    obs_data = obs_metadata.iloc[i]  # Assuming 'obs_metadata' is a Pandas dataframe\n",
    "    if obs_data[\"annotation\"]==max_variable:\n",
    "        V+=1\n",
    "    else:\n",
    "        dico_results[max_variable]+=1\n",
    "        print(max_variable+\" ne correspond pas à \"+obs_data[\"annotation\"])\n",
    "        F+=1\n",
    "print(V)\n",
    "print(F)"
   ]
  },
  {
   "cell_type": "code",
   "execution_count": 61,
   "id": "408d55c8-d6f2-4045-8956-e755f99a3e5b",
   "metadata": {},
   "outputs": [
    {
     "data": {
      "text/plain": [
       "0.38258098778544875"
      ]
     },
     "execution_count": 61,
     "metadata": {},
     "output_type": "execute_result"
    }
   ],
   "source": [
    "3602/(3602+5813)"
   ]
  },
  {
   "cell_type": "code",
   "execution_count": 99,
   "id": "5bee068b-0e92-4faf-87ed-b56c48afc439",
   "metadata": {},
   "outputs": [
    {
     "name": "stdout",
     "output_type": "stream",
     "text": [
      "1341\n",
      "2118\n",
      "308\n"
     ]
    }
   ],
   "source": [
    "# Access the observation metadata\n",
    "obs_metadata = adata.obs\n",
    "S=0\n",
    "I=0\n",
    "T=0\n",
    "M=0\n",
    "B=0\n",
    "F=0\n",
    "\n",
    "# Loop through all rows of the matrix\n",
    "for i in range(adata.X.shape[0]):\n",
    "    # Access the data for row i\n",
    "    if stroma_evaluation(i)==True:\n",
    "        cell_type=\"Stroma\"\n",
    "    \n",
    "        # Access the metadata for the observation in row i\n",
    "        obs_data = obs_metadata.iloc[i]  # Assuming 'obs_metadata' is a Pandas dataframe\n",
    "        if obs_data[\"annotation\"]==cell_type:\n",
    "            V+=1\n",
    "        elif obs_data[\"annotation\"]==\"Tumor\":\n",
    "            T+=1\n",
    "        elif obs_data[\"annotation\"]==\"Mixed\":\n",
    "            M+=1\n",
    "        else:\n",
    "            F+=1\n",
    "print(V)\n",
    "print(T)\n",
    "print(F)"
   ]
  },
  {
   "cell_type": "code",
   "execution_count": 100,
   "id": "a1c8cfa5-4d36-4c95-9f5f-84ecfaf39f25",
   "metadata": {},
   "outputs": [
    {
     "name": "stdout",
     "output_type": "stream",
     "text": [
      "1098\n"
     ]
    }
   ],
   "source": [
    "print(M)"
   ]
  },
  {
   "cell_type": "code",
   "execution_count": 101,
   "id": "d1d3d616-94c8-4a17-ac8e-26582ed037fa",
   "metadata": {},
   "outputs": [
    {
     "name": "stdout",
     "output_type": "stream",
     "text": [
      "4865\n"
     ]
    }
   ],
   "source": [
    "print(T+V+F+M)"
   ]
  },
  {
   "cell_type": "code",
   "execution_count": 53,
   "id": "e47c1097-9a9c-4cf4-a606-450bb43dc5bd",
   "metadata": {},
   "outputs": [
    {
     "name": "stdout",
     "output_type": "stream",
     "text": [
      "1987\n"
     ]
    }
   ],
   "source": [
    "V=0\n",
    "for i in range(adata.X.shape[0]):\n",
    "    # Access the data for row i\n",
    "        cell_type=\"Stroma\"\n",
    "    \n",
    "        # Access the metadata for the observation in row i\n",
    "        obs_data = obs_metadata.iloc[i]  # Assuming 'obs_metadata' is a Pandas dataframe\n",
    "        if obs_data[\"annotation\"]==cell_type:\n",
    "            V+=1\n",
    "print(V)"
   ]
  },
  {
   "cell_type": "code",
   "execution_count": null,
   "id": "261008df-b314-4298-a3c5-9f3aab34e765",
   "metadata": {},
   "outputs": [],
   "source": []
  }
 ],
 "metadata": {
  "kernelspec": {
   "display_name": "Python 3 (ipykernel)",
   "language": "python",
   "name": "python3"
  },
  "language_info": {
   "codemirror_mode": {
    "name": "ipython",
    "version": 3
   },
   "file_extension": ".py",
   "mimetype": "text/x-python",
   "name": "python",
   "nbconvert_exporter": "python",
   "pygments_lexer": "ipython3",
   "version": "3.8.10"
  }
 },
 "nbformat": 4,
 "nbformat_minor": 5
}
