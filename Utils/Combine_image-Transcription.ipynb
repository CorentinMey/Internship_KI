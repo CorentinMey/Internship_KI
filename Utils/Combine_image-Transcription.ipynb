{
 "cells": [
  {
   "cell_type": "markdown",
   "id": "4d4194e3-7a0c-4f07-b20c-e4e4b2a73105",
   "metadata": {},
   "source": [
    "Python module to merge anndata object with image segmentation data and transcription data"
   ]
  },
  {
   "cell_type": "markdown",
   "id": "46ce8ff8-8a67-4984-80c8-29501f1ca540",
   "metadata": {},
   "source": [
    "# Import"
   ]
  },
  {
   "cell_type": "code",
   "execution_count": 1,
   "id": "dee80370-a4fe-4746-a9cd-7de5e60d5fdd",
   "metadata": {},
   "outputs": [],
   "source": [
    "import anndata as ad\n",
    "import pandas as pd"
   ]
  },
  {
   "cell_type": "markdown",
   "id": "d0fb55cb-7325-46ac-b7ff-ae22c4398e5c",
   "metadata": {},
   "source": [
    "# Input"
   ]
  },
  {
   "cell_type": "markdown",
   "id": "1d415e00-e38f-42cb-bc3d-e6abac2a3075",
   "metadata": {},
   "source": [
    "Transcription anndata object and image segmentation object"
   ]
  },
  {
   "cell_type": "code",
   "execution_count": 2,
   "id": "2dd1e60f-f7b8-467a-9dd7-d59af46fa22c",
   "metadata": {},
   "outputs": [],
   "source": [
    "adataI= ad.read_h5ad(\"/disk2/user/cormey/outputs/Segmentation_objects/034_RJ.C1.h5ad\")\n",
    "adataT= ad.read_h5ad(\"/disk2/user/cormey/outputs/Transcription_objects/034_RJ.C1\")"
   ]
  },
  {
   "cell_type": "markdown",
   "id": "b6d6bb77-3735-4072-91ff-eca78b67a0ca",
   "metadata": {},
   "source": [
    "# Output"
   ]
  },
  {
   "cell_type": "markdown",
   "id": "3a0930d2-b84c-476a-a6cd-a1c35ad8b6f0",
   "metadata": {},
   "source": [
    "Anndata object with both image and transcription data"
   ]
  },
  {
   "cell_type": "markdown",
   "id": "ea13ed8a-cb4a-4789-9535-600f15c9d85d",
   "metadata": {},
   "source": [
    "# Add a barcode column in obs"
   ]
  },
  {
   "cell_type": "code",
   "execution_count": 3,
   "id": "5dac9e5a-138a-4444-b2fc-4ada3bfffcc2",
   "metadata": {},
   "outputs": [],
   "source": [
    "#for adataT\n",
    "liste_BC=[]\n",
    "for ligne in adataT.obs.index:\n",
    "    BC=ligne.split(\"#\")[0]\n",
    "    liste_BC.append(BC)\n",
    "adataT.obs['barcode'] = liste_BC"
   ]
  },
  {
   "cell_type": "code",
   "execution_count": 4,
   "id": "9c5bfa93-8c5a-451f-acf7-7839e512c69e",
   "metadata": {},
   "outputs": [
    {
     "data": {
      "text/html": [
       "<div>\n",
       "<style scoped>\n",
       "    .dataframe tbody tr th:only-of-type {\n",
       "        vertical-align: middle;\n",
       "    }\n",
       "\n",
       "    .dataframe tbody tr th {\n",
       "        vertical-align: top;\n",
       "    }\n",
       "\n",
       "    .dataframe thead th {\n",
       "        text-align: right;\n",
       "    }\n",
       "</style>\n",
       "<table border=\"1\" class=\"dataframe\">\n",
       "  <thead>\n",
       "    <tr style=\"text-align: right;\">\n",
       "      <th></th>\n",
       "      <th>batch</th>\n",
       "      <th>annotation</th>\n",
       "      <th>barcode</th>\n",
       "    </tr>\n",
       "  </thead>\n",
       "  <tbody>\n",
       "    <tr>\n",
       "      <th>AAACACCAATAACTGC-1#V10F03-034_C</th>\n",
       "      <td>V10F03-034_C</td>\n",
       "      <td>Tumor</td>\n",
       "      <td>AAACACCAATAACTGC-1</td>\n",
       "    </tr>\n",
       "    <tr>\n",
       "      <th>AAACAGCTTTCAGAAG-1#V10F03-034_C</th>\n",
       "      <td>V10F03-034_C</td>\n",
       "      <td>Tumor</td>\n",
       "      <td>AAACAGCTTTCAGAAG-1</td>\n",
       "    </tr>\n",
       "    <tr>\n",
       "      <th>AAACAGGGTCTATATT-1#V10F03-034_C</th>\n",
       "      <td>V10F03-034_C</td>\n",
       "      <td>Mixed</td>\n",
       "      <td>AAACAGGGTCTATATT-1</td>\n",
       "    </tr>\n",
       "    <tr>\n",
       "      <th>AAACAGTGTTCCTGGG-1#V10F03-034_C</th>\n",
       "      <td>V10F03-034_C</td>\n",
       "      <td>Tumor</td>\n",
       "      <td>AAACAGTGTTCCTGGG-1</td>\n",
       "    </tr>\n",
       "    <tr>\n",
       "      <th>AAACATGGTGAGAGGA-1#V10F03-034_C</th>\n",
       "      <td>V10F03-034_C</td>\n",
       "      <td>Tumor</td>\n",
       "      <td>AAACATGGTGAGAGGA-1</td>\n",
       "    </tr>\n",
       "  </tbody>\n",
       "</table>\n",
       "</div>"
      ],
      "text/plain": [
       "                                        batch annotation             barcode\n",
       "AAACACCAATAACTGC-1#V10F03-034_C  V10F03-034_C      Tumor  AAACACCAATAACTGC-1\n",
       "AAACAGCTTTCAGAAG-1#V10F03-034_C  V10F03-034_C      Tumor  AAACAGCTTTCAGAAG-1\n",
       "AAACAGGGTCTATATT-1#V10F03-034_C  V10F03-034_C      Mixed  AAACAGGGTCTATATT-1\n",
       "AAACAGTGTTCCTGGG-1#V10F03-034_C  V10F03-034_C      Tumor  AAACAGTGTTCCTGGG-1\n",
       "AAACATGGTGAGAGGA-1#V10F03-034_C  V10F03-034_C      Tumor  AAACATGGTGAGAGGA-1"
      ]
     },
     "execution_count": 4,
     "metadata": {},
     "output_type": "execute_result"
    }
   ],
   "source": [
    "adataT.obs.head()"
   ]
  },
  {
   "cell_type": "code",
   "execution_count": 5,
   "id": "b9731d0c-e7d3-44d0-83c9-c8ecba228766",
   "metadata": {},
   "outputs": [],
   "source": [
    "#Remove index from adataT\n",
    "df_obsT = pd.DataFrame(adataT.obs, index=adataT.obs.index)\n",
    "df_obsT.reset_index(drop=True, inplace=True)\n",
    "adataT.obs = df_obsT"
   ]
  },
  {
   "cell_type": "code",
   "execution_count": 6,
   "id": "453c36c1-9d1d-4944-a85b-77821b2c8cf0",
   "metadata": {},
   "outputs": [
    {
     "name": "stdout",
     "output_type": "stream",
     "text": [
      "  (0, 6)\t0.9533190626749124\n",
      "  (4, 3)\t0.4095996751707791\n",
      "  (6, 3)\t1.3419501350667695\n",
      "  (7, 9)\t0.5834546703358795\n",
      "  (8, 3)\t1.1453497665197996\n"
     ]
    }
   ],
   "source": [
    "print(adataT.X[:10,:10])"
   ]
  },
  {
   "cell_type": "code",
   "execution_count": 7,
   "id": "9c1d3663-d5fa-4918-aba5-056200fab946",
   "metadata": {},
   "outputs": [],
   "source": [
    "#for adataI\n",
    "liste_BC=[]\n",
    "for ligne in adataI.obs[\"path\"]:\n",
    "    BC=ligne.split(\"_\")[4]\n",
    "    liste_BC.append(BC)\n",
    "adataI.obs['barcode'] = liste_BC"
   ]
  },
  {
   "cell_type": "code",
   "execution_count": 8,
   "id": "2a66df6b-979e-4d46-ac33-6cbc4c734ae9",
   "metadata": {},
   "outputs": [
    {
     "data": {
      "text/html": [
       "<div>\n",
       "<style scoped>\n",
       "    .dataframe tbody tr th:only-of-type {\n",
       "        vertical-align: middle;\n",
       "    }\n",
       "\n",
       "    .dataframe tbody tr th {\n",
       "        vertical-align: top;\n",
       "    }\n",
       "\n",
       "    .dataframe thead th {\n",
       "        text-align: right;\n",
       "    }\n",
       "</style>\n",
       "<table border=\"1\" class=\"dataframe\">\n",
       "  <thead>\n",
       "    <tr style=\"text-align: right;\">\n",
       "      <th></th>\n",
       "      <th>path</th>\n",
       "      <th>annotation</th>\n",
       "      <th>barcode</th>\n",
       "    </tr>\n",
       "  </thead>\n",
       "  <tbody>\n",
       "    <tr>\n",
       "      <th>0</th>\n",
       "      <td>/disk2/user/cormey/outputs/Tilted_images/034_R...</td>\n",
       "      <td>Mixed</td>\n",
       "      <td>CTGGTCATTCCAATCC-1</td>\n",
       "    </tr>\n",
       "    <tr>\n",
       "      <th>1</th>\n",
       "      <td>/disk2/user/cormey/outputs/Tilted_images/034_R...</td>\n",
       "      <td>Mixed</td>\n",
       "      <td>AATTCATAAGGGATCT-1</td>\n",
       "    </tr>\n",
       "    <tr>\n",
       "      <th>2</th>\n",
       "      <td>/disk2/user/cormey/outputs/Tilted_images/034_R...</td>\n",
       "      <td>Mixed</td>\n",
       "      <td>GGAACGGCCTGCAGCC-1</td>\n",
       "    </tr>\n",
       "    <tr>\n",
       "      <th>3</th>\n",
       "      <td>/disk2/user/cormey/outputs/Tilted_images/034_R...</td>\n",
       "      <td>Mixed</td>\n",
       "      <td>GTAGAAACGGGTGGAG-1</td>\n",
       "    </tr>\n",
       "    <tr>\n",
       "      <th>4</th>\n",
       "      <td>/disk2/user/cormey/outputs/Tilted_images/034_R...</td>\n",
       "      <td>Mixed</td>\n",
       "      <td>TAATGAAAGACCCTTG-1</td>\n",
       "    </tr>\n",
       "  </tbody>\n",
       "</table>\n",
       "</div>"
      ],
      "text/plain": [
       "                                                path annotation  \\\n",
       "0  /disk2/user/cormey/outputs/Tilted_images/034_R...      Mixed   \n",
       "1  /disk2/user/cormey/outputs/Tilted_images/034_R...      Mixed   \n",
       "2  /disk2/user/cormey/outputs/Tilted_images/034_R...      Mixed   \n",
       "3  /disk2/user/cormey/outputs/Tilted_images/034_R...      Mixed   \n",
       "4  /disk2/user/cormey/outputs/Tilted_images/034_R...      Mixed   \n",
       "\n",
       "              barcode  \n",
       "0  CTGGTCATTCCAATCC-1  \n",
       "1  AATTCATAAGGGATCT-1  \n",
       "2  GGAACGGCCTGCAGCC-1  \n",
       "3  GTAGAAACGGGTGGAG-1  \n",
       "4  TAATGAAAGACCCTTG-1  "
      ]
     },
     "execution_count": 8,
     "metadata": {},
     "output_type": "execute_result"
    }
   ],
   "source": [
    "adataI.obs.head()"
   ]
  },
  {
   "cell_type": "code",
   "execution_count": 9,
   "id": "064363fb-707b-4967-8d95-fc71dddd4995",
   "metadata": {},
   "outputs": [
    {
     "data": {
      "text/plain": [
       "array([[ 8.00000000e+00,  1.51412500e+03,  1.23305834e+03,\n",
       "         1.97425000e+03,  1.61632057e+03,  1.54850000e+03,\n",
       "         1.24649258e+03,  6.61739614e-01,  1.28501719e-01,\n",
       "         4.01106723e+01,  1.78599494e+01,  1.00000000e+00,\n",
       "         0.00000000e+00,  7.58142058e-01,  5.66055963e-02,\n",
       "         4.90330428e+01,  2.10596941e+01,  4.74397455e+01,\n",
       "         2.07645506e+01,  3.47138376e+01,  1.52996667e+01,\n",
       "        -4.98534895e-01,  4.14310232e-01,  1.35720193e+02,\n",
       "         5.91845924e+01,  9.64560118e-01,  2.88448173e-02]])"
      ]
     },
     "execution_count": 9,
     "metadata": {},
     "output_type": "execute_result"
    }
   ],
   "source": [
    "adataI.X[:1,:27]"
   ]
  },
  {
   "cell_type": "markdown",
   "id": "0ebfc709-a754-427b-9658-551269abc692",
   "metadata": {},
   "source": [
    "# Sort by barcode both anndata object"
   ]
  },
  {
   "cell_type": "code",
   "execution_count": 10,
   "id": "2fe40679-94a7-48c4-8a0c-c2c813192fd4",
   "metadata": {},
   "outputs": [],
   "source": [
    "adataI = adataI[adataI.obs.sort_values('barcode').index]\n",
    "adataT = adataT[adataT.obs.sort_values('barcode').index]"
   ]
  },
  {
   "cell_type": "code",
   "execution_count": 11,
   "id": "e5c342e8-70e5-40d6-9ab8-8f3d2b40a725",
   "metadata": {},
   "outputs": [
    {
     "data": {
      "text/html": [
       "<div>\n",
       "<style scoped>\n",
       "    .dataframe tbody tr th:only-of-type {\n",
       "        vertical-align: middle;\n",
       "    }\n",
       "\n",
       "    .dataframe tbody tr th {\n",
       "        vertical-align: top;\n",
       "    }\n",
       "\n",
       "    .dataframe thead th {\n",
       "        text-align: right;\n",
       "    }\n",
       "</style>\n",
       "<table border=\"1\" class=\"dataframe\">\n",
       "  <thead>\n",
       "    <tr style=\"text-align: right;\">\n",
       "      <th></th>\n",
       "      <th>batch</th>\n",
       "      <th>annotation</th>\n",
       "      <th>barcode</th>\n",
       "    </tr>\n",
       "  </thead>\n",
       "  <tbody>\n",
       "    <tr>\n",
       "      <th>0</th>\n",
       "      <td>V10F03-034_C</td>\n",
       "      <td>Tumor</td>\n",
       "      <td>AAACACCAATAACTGC-1</td>\n",
       "    </tr>\n",
       "    <tr>\n",
       "      <th>1</th>\n",
       "      <td>V10F03-034_C</td>\n",
       "      <td>Tumor</td>\n",
       "      <td>AAACAGCTTTCAGAAG-1</td>\n",
       "    </tr>\n",
       "    <tr>\n",
       "      <th>2</th>\n",
       "      <td>V10F03-034_C</td>\n",
       "      <td>Mixed</td>\n",
       "      <td>AAACAGGGTCTATATT-1</td>\n",
       "    </tr>\n",
       "    <tr>\n",
       "      <th>3</th>\n",
       "      <td>V10F03-034_C</td>\n",
       "      <td>Tumor</td>\n",
       "      <td>AAACAGTGTTCCTGGG-1</td>\n",
       "    </tr>\n",
       "    <tr>\n",
       "      <th>4</th>\n",
       "      <td>V10F03-034_C</td>\n",
       "      <td>Tumor</td>\n",
       "      <td>AAACATGGTGAGAGGA-1</td>\n",
       "    </tr>\n",
       "  </tbody>\n",
       "</table>\n",
       "</div>"
      ],
      "text/plain": [
       "          batch annotation             barcode\n",
       "0  V10F03-034_C      Tumor  AAACACCAATAACTGC-1\n",
       "1  V10F03-034_C      Tumor  AAACAGCTTTCAGAAG-1\n",
       "2  V10F03-034_C      Mixed  AAACAGGGTCTATATT-1\n",
       "3  V10F03-034_C      Tumor  AAACAGTGTTCCTGGG-1\n",
       "4  V10F03-034_C      Tumor  AAACATGGTGAGAGGA-1"
      ]
     },
     "execution_count": 11,
     "metadata": {},
     "output_type": "execute_result"
    }
   ],
   "source": [
    "adataT.obs.head()"
   ]
  },
  {
   "cell_type": "code",
   "execution_count": 12,
   "id": "a68d13fa-c822-4a58-bbbf-e5ccd824af25",
   "metadata": {},
   "outputs": [
    {
     "data": {
      "text/html": [
       "<div>\n",
       "<style scoped>\n",
       "    .dataframe tbody tr th:only-of-type {\n",
       "        vertical-align: middle;\n",
       "    }\n",
       "\n",
       "    .dataframe tbody tr th {\n",
       "        vertical-align: top;\n",
       "    }\n",
       "\n",
       "    .dataframe thead th {\n",
       "        text-align: right;\n",
       "    }\n",
       "</style>\n",
       "<table border=\"1\" class=\"dataframe\">\n",
       "  <thead>\n",
       "    <tr style=\"text-align: right;\">\n",
       "      <th></th>\n",
       "      <th>path</th>\n",
       "      <th>annotation</th>\n",
       "      <th>barcode</th>\n",
       "    </tr>\n",
       "  </thead>\n",
       "  <tbody>\n",
       "    <tr>\n",
       "      <th>1250</th>\n",
       "      <td>/disk2/user/cormey/outputs/Tilted_images/034_R...</td>\n",
       "      <td>Tumor</td>\n",
       "      <td>AAACACCAATAACTGC-1</td>\n",
       "    </tr>\n",
       "    <tr>\n",
       "      <th>442</th>\n",
       "      <td>/disk2/user/cormey/outputs/Tilted_images/034_R...</td>\n",
       "      <td>Tumor</td>\n",
       "      <td>AAACAGCTTTCAGAAG-1</td>\n",
       "    </tr>\n",
       "    <tr>\n",
       "      <th>638</th>\n",
       "      <td>/disk2/user/cormey/outputs/Tilted_images/034_R...</td>\n",
       "      <td>Mixed</td>\n",
       "      <td>AAACAGGGTCTATATT-1</td>\n",
       "    </tr>\n",
       "    <tr>\n",
       "      <th>1891</th>\n",
       "      <td>/disk2/user/cormey/outputs/Tilted_images/034_R...</td>\n",
       "      <td>Tumor</td>\n",
       "      <td>AAACAGTGTTCCTGGG-1</td>\n",
       "    </tr>\n",
       "    <tr>\n",
       "      <th>1430</th>\n",
       "      <td>/disk2/user/cormey/outputs/Tilted_images/034_R...</td>\n",
       "      <td>Tumor</td>\n",
       "      <td>AAACATGGTGAGAGGA-1</td>\n",
       "    </tr>\n",
       "  </tbody>\n",
       "</table>\n",
       "</div>"
      ],
      "text/plain": [
       "                                                   path annotation  \\\n",
       "1250  /disk2/user/cormey/outputs/Tilted_images/034_R...      Tumor   \n",
       "442   /disk2/user/cormey/outputs/Tilted_images/034_R...      Tumor   \n",
       "638   /disk2/user/cormey/outputs/Tilted_images/034_R...      Mixed   \n",
       "1891  /disk2/user/cormey/outputs/Tilted_images/034_R...      Tumor   \n",
       "1430  /disk2/user/cormey/outputs/Tilted_images/034_R...      Tumor   \n",
       "\n",
       "                 barcode  \n",
       "1250  AAACACCAATAACTGC-1  \n",
       "442   AAACAGCTTTCAGAAG-1  \n",
       "638   AAACAGGGTCTATATT-1  \n",
       "1891  AAACAGTGTTCCTGGG-1  \n",
       "1430  AAACATGGTGAGAGGA-1  "
      ]
     },
     "execution_count": 12,
     "metadata": {},
     "output_type": "execute_result"
    }
   ],
   "source": [
    "adataI.obs.head()"
   ]
  },
  {
   "cell_type": "code",
   "execution_count": 13,
   "id": "633fcb94-f0fc-42b7-a6bf-bce0a42e7cc8",
   "metadata": {},
   "outputs": [
    {
     "name": "stdout",
     "output_type": "stream",
     "text": [
      "  (0, 24)\t1.432369437926531\n",
      "  (0, 32)\t0.9533190626749124\n",
      "  (0, 148)\t1.432369437926531\n",
      "  (0, 183)\t0.9533190626749124\n",
      "  (0, 193)\t1.432369437926531\n",
      "  (0, 212)\t0.9533190626749124\n",
      "  (0, 221)\t1.9983974431020337\n",
      "  (0, 224)\t1.754908425430092\n",
      "  (0, 228)\t0.9533190626749124\n",
      "  (0, 242)\t0.9533190626749124\n",
      "  (0, 250)\t0.9533190626749124\n",
      "  (0, 289)\t0.9533190626749124\n",
      "  (0, 312)\t0.9533190626749124\n"
     ]
    }
   ],
   "source": [
    "print(adataT.X[:1,20:])"
   ]
  },
  {
   "cell_type": "markdown",
   "id": "3fa88cd8-24d3-4c0e-8de1-3e08211054b0",
   "metadata": {},
   "source": [
    "# Combine X matrix of both anndata objects"
   ]
  },
  {
   "cell_type": "code",
   "execution_count": 15,
   "id": "332531c1-bbcf-45db-aaa5-db5174068f35",
   "metadata": {},
   "outputs": [],
   "source": [
    "#Extraction of X matrix from both anndata objects\n",
    "df_segmentation = pd.DataFrame(adataI.X, index=adataI.obs.index)\n",
    "matrix_X = adataT.X\n",
    "df_transcription = pd.DataFrame(matrix_X.toarray(), index=adataT.obs_names, columns=adataT.var_names) #toarray convert sparse matrix into dense matrix\n",
    "# Remove index to combine dataframe\n",
    "df_segmentation.reset_index(drop=True, inplace=True)\n",
    "df_transcription.reset_index(drop=True, inplace=True)"
   ]
  },
  {
   "cell_type": "code",
   "execution_count": 16,
   "id": "5e66e300-d9ea-4698-bd6c-5bd3fcc8c2d3",
   "metadata": {},
   "outputs": [
    {
     "data": {
      "text/plain": [
       "(2061, 27)"
      ]
     },
     "execution_count": 16,
     "metadata": {},
     "output_type": "execute_result"
    }
   ],
   "source": [
    "df_segmentation.shape"
   ]
  },
  {
   "cell_type": "code",
   "execution_count": 17,
   "id": "784c2cc6-4d79-480d-acdf-ad15a24ad45e",
   "metadata": {},
   "outputs": [
    {
     "data": {
      "text/plain": [
       "(2061, 350)"
      ]
     },
     "execution_count": 17,
     "metadata": {},
     "output_type": "execute_result"
    }
   ],
   "source": [
    "df_transcription.shape"
   ]
  },
  {
   "cell_type": "code",
   "execution_count": 18,
   "id": "a34e242e-2030-401f-84f3-7b5b3b2ba19e",
   "metadata": {},
   "outputs": [],
   "source": [
    "df_combi=pd.concat([df_segmentation,df_transcription], axis=1) #combine dataframes"
   ]
  },
  {
   "cell_type": "code",
   "execution_count": 19,
   "id": "366e95d1-97c3-48a1-b1fe-73959277633c",
   "metadata": {},
   "outputs": [
    {
     "data": {
      "text/html": [
       "<div>\n",
       "<style scoped>\n",
       "    .dataframe tbody tr th:only-of-type {\n",
       "        vertical-align: middle;\n",
       "    }\n",
       "\n",
       "    .dataframe tbody tr th {\n",
       "        vertical-align: top;\n",
       "    }\n",
       "\n",
       "    .dataframe thead th {\n",
       "        text-align: right;\n",
       "    }\n",
       "</style>\n",
       "<table border=\"1\" class=\"dataframe\">\n",
       "  <thead>\n",
       "    <tr style=\"text-align: right;\">\n",
       "      <th></th>\n",
       "      <th>0</th>\n",
       "      <th>1</th>\n",
       "      <th>2</th>\n",
       "      <th>3</th>\n",
       "      <th>4</th>\n",
       "      <th>5</th>\n",
       "      <th>6</th>\n",
       "      <th>7</th>\n",
       "      <th>8</th>\n",
       "      <th>9</th>\n",
       "      <th>...</th>\n",
       "      <th>ENSG00000087842</th>\n",
       "      <th>ENSG00000102104</th>\n",
       "      <th>ENSG00000086758</th>\n",
       "      <th>ENSG00000196338</th>\n",
       "      <th>ENSG00000157502</th>\n",
       "      <th>ENSG00000080561</th>\n",
       "      <th>ENSG00000213468</th>\n",
       "      <th>ENSG00000102181</th>\n",
       "      <th>ENSG00000274791</th>\n",
       "      <th>ENSG00000273748</th>\n",
       "    </tr>\n",
       "  </thead>\n",
       "  <tbody>\n",
       "    <tr>\n",
       "      <th>0</th>\n",
       "      <td>38.0</td>\n",
       "      <td>899.921053</td>\n",
       "      <td>580.909966</td>\n",
       "      <td>1206.973684</td>\n",
       "      <td>785.921433</td>\n",
       "      <td>928.184211</td>\n",
       "      <td>593.153830</td>\n",
       "      <td>0.726824</td>\n",
       "      <td>0.148092</td>\n",
       "      <td>32.446737</td>\n",
       "      <td>...</td>\n",
       "      <td>0.000000</td>\n",
       "      <td>0.0</td>\n",
       "      <td>0.0</td>\n",
       "      <td>0.0</td>\n",
       "      <td>0.0</td>\n",
       "      <td>0.0</td>\n",
       "      <td>0.0</td>\n",
       "      <td>0.0</td>\n",
       "      <td>0.0</td>\n",
       "      <td>0.0</td>\n",
       "    </tr>\n",
       "    <tr>\n",
       "      <th>1</th>\n",
       "      <td>39.0</td>\n",
       "      <td>883.205128</td>\n",
       "      <td>403.093116</td>\n",
       "      <td>1244.230769</td>\n",
       "      <td>572.650091</td>\n",
       "      <td>917.871795</td>\n",
       "      <td>406.481789</td>\n",
       "      <td>0.728130</td>\n",
       "      <td>0.110887</td>\n",
       "      <td>32.624605</td>\n",
       "      <td>...</td>\n",
       "      <td>0.000000</td>\n",
       "      <td>0.0</td>\n",
       "      <td>0.0</td>\n",
       "      <td>0.0</td>\n",
       "      <td>0.0</td>\n",
       "      <td>0.0</td>\n",
       "      <td>0.0</td>\n",
       "      <td>0.0</td>\n",
       "      <td>0.0</td>\n",
       "      <td>0.0</td>\n",
       "    </tr>\n",
       "    <tr>\n",
       "      <th>2</th>\n",
       "      <td>27.0</td>\n",
       "      <td>972.962963</td>\n",
       "      <td>429.086064</td>\n",
       "      <td>1337.370370</td>\n",
       "      <td>591.938507</td>\n",
       "      <td>1006.333333</td>\n",
       "      <td>434.472179</td>\n",
       "      <td>0.728673</td>\n",
       "      <td>0.159345</td>\n",
       "      <td>34.331603</td>\n",
       "      <td>...</td>\n",
       "      <td>0.669984</td>\n",
       "      <td>0.0</td>\n",
       "      <td>0.0</td>\n",
       "      <td>0.0</td>\n",
       "      <td>0.0</td>\n",
       "      <td>0.0</td>\n",
       "      <td>0.0</td>\n",
       "      <td>0.0</td>\n",
       "      <td>0.0</td>\n",
       "      <td>0.0</td>\n",
       "    </tr>\n",
       "    <tr>\n",
       "      <th>3</th>\n",
       "      <td>55.0</td>\n",
       "      <td>897.963636</td>\n",
       "      <td>414.469561</td>\n",
       "      <td>1191.272727</td>\n",
       "      <td>568.694820</td>\n",
       "      <td>927.290909</td>\n",
       "      <td>422.341597</td>\n",
       "      <td>0.696598</td>\n",
       "      <td>0.125523</td>\n",
       "      <td>32.869511</td>\n",
       "      <td>...</td>\n",
       "      <td>0.000000</td>\n",
       "      <td>0.0</td>\n",
       "      <td>0.0</td>\n",
       "      <td>0.0</td>\n",
       "      <td>0.0</td>\n",
       "      <td>0.0</td>\n",
       "      <td>0.0</td>\n",
       "      <td>0.0</td>\n",
       "      <td>0.0</td>\n",
       "      <td>0.0</td>\n",
       "    </tr>\n",
       "    <tr>\n",
       "      <th>4</th>\n",
       "      <td>38.0</td>\n",
       "      <td>867.684211</td>\n",
       "      <td>399.065626</td>\n",
       "      <td>1179.131579</td>\n",
       "      <td>533.022621</td>\n",
       "      <td>897.210526</td>\n",
       "      <td>407.240273</td>\n",
       "      <td>0.711607</td>\n",
       "      <td>0.129742</td>\n",
       "      <td>32.456104</td>\n",
       "      <td>...</td>\n",
       "      <td>0.000000</td>\n",
       "      <td>0.0</td>\n",
       "      <td>0.0</td>\n",
       "      <td>0.0</td>\n",
       "      <td>0.0</td>\n",
       "      <td>0.0</td>\n",
       "      <td>0.0</td>\n",
       "      <td>0.0</td>\n",
       "      <td>0.0</td>\n",
       "      <td>0.0</td>\n",
       "    </tr>\n",
       "  </tbody>\n",
       "</table>\n",
       "<p>5 rows × 377 columns</p>\n",
       "</div>"
      ],
      "text/plain": [
       "      0           1           2            3           4            5  \\\n",
       "0  38.0  899.921053  580.909966  1206.973684  785.921433   928.184211   \n",
       "1  39.0  883.205128  403.093116  1244.230769  572.650091   917.871795   \n",
       "2  27.0  972.962963  429.086064  1337.370370  591.938507  1006.333333   \n",
       "3  55.0  897.963636  414.469561  1191.272727  568.694820   927.290909   \n",
       "4  38.0  867.684211  399.065626  1179.131579  533.022621   897.210526   \n",
       "\n",
       "            6         7         8          9  ...  ENSG00000087842  \\\n",
       "0  593.153830  0.726824  0.148092  32.446737  ...         0.000000   \n",
       "1  406.481789  0.728130  0.110887  32.624605  ...         0.000000   \n",
       "2  434.472179  0.728673  0.159345  34.331603  ...         0.669984   \n",
       "3  422.341597  0.696598  0.125523  32.869511  ...         0.000000   \n",
       "4  407.240273  0.711607  0.129742  32.456104  ...         0.000000   \n",
       "\n",
       "   ENSG00000102104  ENSG00000086758  ENSG00000196338  ENSG00000157502  \\\n",
       "0              0.0              0.0              0.0              0.0   \n",
       "1              0.0              0.0              0.0              0.0   \n",
       "2              0.0              0.0              0.0              0.0   \n",
       "3              0.0              0.0              0.0              0.0   \n",
       "4              0.0              0.0              0.0              0.0   \n",
       "\n",
       "   ENSG00000080561  ENSG00000213468  ENSG00000102181  ENSG00000274791  \\\n",
       "0              0.0              0.0              0.0              0.0   \n",
       "1              0.0              0.0              0.0              0.0   \n",
       "2              0.0              0.0              0.0              0.0   \n",
       "3              0.0              0.0              0.0              0.0   \n",
       "4              0.0              0.0              0.0              0.0   \n",
       "\n",
       "   ENSG00000273748  \n",
       "0              0.0  \n",
       "1              0.0  \n",
       "2              0.0  \n",
       "3              0.0  \n",
       "4              0.0  \n",
       "\n",
       "[5 rows x 377 columns]"
      ]
     },
     "execution_count": 19,
     "metadata": {},
     "output_type": "execute_result"
    }
   ],
   "source": [
    "df_combi.head()"
   ]
  },
  {
   "cell_type": "code",
   "execution_count": 20,
   "id": "abb93828-f285-4575-bc02-02cabdf7c974",
   "metadata": {},
   "outputs": [
    {
     "data": {
      "text/plain": [
       "(2061, 377)"
      ]
     },
     "execution_count": 20,
     "metadata": {},
     "output_type": "execute_result"
    }
   ],
   "source": [
    "df_combi.shape"
   ]
  },
  {
   "cell_type": "code",
   "execution_count": 21,
   "id": "6651ec8b-3fdf-4932-8793-2e9ef5d2ef8a",
   "metadata": {},
   "outputs": [
    {
     "name": "stderr",
     "output_type": "stream",
     "text": [
      "/disk2/user/cormey/environments/test_env/lib/python3.12/site-packages/anndata/_core/aligned_df.py:67: ImplicitModificationWarning: Transforming to str index.\n",
      "  warnings.warn(\"Transforming to str index.\", ImplicitModificationWarning)\n",
      "/disk2/user/cormey/environments/test_env/lib/python3.12/site-packages/anndata/_core/aligned_df.py:67: ImplicitModificationWarning: Transforming to str index.\n",
      "  warnings.warn(\"Transforming to str index.\", ImplicitModificationWarning)\n"
     ]
    }
   ],
   "source": [
    "adataf=ad.AnnData(X=df_combi, obs=adataT.obs) #stock the result in a new dataframe"
   ]
  },
  {
   "cell_type": "code",
   "execution_count": 22,
   "id": "93409095-d1af-4b3b-b89f-4fc8d46a032a",
   "metadata": {
    "scrolled": true
   },
   "outputs": [
    {
     "name": "stdout",
     "output_type": "stream",
     "text": [
      "[[ 3.80000000e+01  8.99921053e+02  5.80909966e+02  1.20697368e+03\n",
      "   7.85921433e+02  9.28184211e+02  5.93153830e+02  7.26823544e-01\n",
      "   1.48091820e-01  3.24467375e+01  9.64491055e+00  1.00000000e+00\n",
      "   0.00000000e+00  7.48205358e-01  5.31760756e-02  4.16569086e+01\n",
      "   1.13028579e+01  4.09879079e+01  1.14585693e+01  2.64445794e+01\n",
      "   9.34251867e+00 -8.84549185e-02  8.52306097e-01  1.11239153e+02\n",
      "   3.23691456e+01  9.66917374e-01  1.15026686e-02  0.00000000e+00\n",
      "   0.00000000e+00  0.00000000e+00  0.00000000e+00  0.00000000e+00\n",
      "   0.00000000e+00  9.53319063e-01  0.00000000e+00  0.00000000e+00\n",
      "   0.00000000e+00  0.00000000e+00  1.43236944e+00  0.00000000e+00\n",
      "   0.00000000e+00  0.00000000e+00  0.00000000e+00  0.00000000e+00\n",
      "   0.00000000e+00  0.00000000e+00  0.00000000e+00  0.00000000e+00\n",
      "   0.00000000e+00  0.00000000e+00  0.00000000e+00  0.00000000e+00\n",
      "   0.00000000e+00  0.00000000e+00  0.00000000e+00  0.00000000e+00\n",
      "   0.00000000e+00  0.00000000e+00  0.00000000e+00  0.00000000e+00\n",
      "   0.00000000e+00  0.00000000e+00  0.00000000e+00  0.00000000e+00\n",
      "   0.00000000e+00  0.00000000e+00  0.00000000e+00  0.00000000e+00\n",
      "   0.00000000e+00  0.00000000e+00  0.00000000e+00  1.43236944e+00\n",
      "   0.00000000e+00  0.00000000e+00  0.00000000e+00  0.00000000e+00\n",
      "   0.00000000e+00  0.00000000e+00  0.00000000e+00  9.53319063e-01\n",
      "   0.00000000e+00  0.00000000e+00  0.00000000e+00  0.00000000e+00\n",
      "   0.00000000e+00  0.00000000e+00  0.00000000e+00  0.00000000e+00\n",
      "   0.00000000e+00  0.00000000e+00  0.00000000e+00  0.00000000e+00\n",
      "   0.00000000e+00  0.00000000e+00  0.00000000e+00  0.00000000e+00\n",
      "   0.00000000e+00  0.00000000e+00  0.00000000e+00  0.00000000e+00\n",
      "   0.00000000e+00  0.00000000e+00  0.00000000e+00  0.00000000e+00\n",
      "   0.00000000e+00  0.00000000e+00  0.00000000e+00  0.00000000e+00\n",
      "   0.00000000e+00  0.00000000e+00  0.00000000e+00  0.00000000e+00\n",
      "   0.00000000e+00  0.00000000e+00  0.00000000e+00  0.00000000e+00\n",
      "   0.00000000e+00  0.00000000e+00  0.00000000e+00  0.00000000e+00\n",
      "   0.00000000e+00  0.00000000e+00  0.00000000e+00  0.00000000e+00\n",
      "   0.00000000e+00  0.00000000e+00  0.00000000e+00  0.00000000e+00\n",
      "   0.00000000e+00  0.00000000e+00  0.00000000e+00  0.00000000e+00\n",
      "   0.00000000e+00  0.00000000e+00  0.00000000e+00  0.00000000e+00\n",
      "   0.00000000e+00  0.00000000e+00  0.00000000e+00  0.00000000e+00\n",
      "   0.00000000e+00  0.00000000e+00  0.00000000e+00  0.00000000e+00\n",
      "   0.00000000e+00  0.00000000e+00  0.00000000e+00  0.00000000e+00\n",
      "   0.00000000e+00  0.00000000e+00  0.00000000e+00  0.00000000e+00\n",
      "   0.00000000e+00  0.00000000e+00  0.00000000e+00  0.00000000e+00\n",
      "   0.00000000e+00  0.00000000e+00  0.00000000e+00  0.00000000e+00\n",
      "   0.00000000e+00  0.00000000e+00  0.00000000e+00  0.00000000e+00\n",
      "   0.00000000e+00  0.00000000e+00  0.00000000e+00  0.00000000e+00\n",
      "   0.00000000e+00  0.00000000e+00  0.00000000e+00  0.00000000e+00\n",
      "   0.00000000e+00  0.00000000e+00  0.00000000e+00  0.00000000e+00\n",
      "   0.00000000e+00  0.00000000e+00  0.00000000e+00  0.00000000e+00\n",
      "   0.00000000e+00  0.00000000e+00  0.00000000e+00  0.00000000e+00\n",
      "   0.00000000e+00  0.00000000e+00  0.00000000e+00  0.00000000e+00\n",
      "   0.00000000e+00  0.00000000e+00  0.00000000e+00  0.00000000e+00\n",
      "   0.00000000e+00  0.00000000e+00  0.00000000e+00  1.43236944e+00\n",
      "   0.00000000e+00  0.00000000e+00  0.00000000e+00  0.00000000e+00\n",
      "   0.00000000e+00  0.00000000e+00  0.00000000e+00  0.00000000e+00\n",
      "   0.00000000e+00  0.00000000e+00  0.00000000e+00  0.00000000e+00\n",
      "   0.00000000e+00  0.00000000e+00  0.00000000e+00  0.00000000e+00\n",
      "   0.00000000e+00  0.00000000e+00  0.00000000e+00  0.00000000e+00\n",
      "   0.00000000e+00  0.00000000e+00  0.00000000e+00  0.00000000e+00\n",
      "   0.00000000e+00  0.00000000e+00  0.00000000e+00  0.00000000e+00\n",
      "   0.00000000e+00  0.00000000e+00  0.00000000e+00  0.00000000e+00\n",
      "   0.00000000e+00  0.00000000e+00  9.53319063e-01  0.00000000e+00\n",
      "   0.00000000e+00  0.00000000e+00  0.00000000e+00  0.00000000e+00\n",
      "   0.00000000e+00  0.00000000e+00  0.00000000e+00  0.00000000e+00\n",
      "   1.43236944e+00  0.00000000e+00  0.00000000e+00  0.00000000e+00\n",
      "   0.00000000e+00  0.00000000e+00  0.00000000e+00  0.00000000e+00\n",
      "   0.00000000e+00  0.00000000e+00  0.00000000e+00  0.00000000e+00\n",
      "   0.00000000e+00  0.00000000e+00  0.00000000e+00  0.00000000e+00\n",
      "   0.00000000e+00  0.00000000e+00  0.00000000e+00  9.53319063e-01\n",
      "   0.00000000e+00  0.00000000e+00  0.00000000e+00  0.00000000e+00\n",
      "   0.00000000e+00  0.00000000e+00  0.00000000e+00  0.00000000e+00\n",
      "   1.99839744e+00  0.00000000e+00  0.00000000e+00  1.75490843e+00\n",
      "   0.00000000e+00  0.00000000e+00  0.00000000e+00  9.53319063e-01\n",
      "   0.00000000e+00  0.00000000e+00  0.00000000e+00  0.00000000e+00\n",
      "   0.00000000e+00  0.00000000e+00  0.00000000e+00  0.00000000e+00\n",
      "   0.00000000e+00  0.00000000e+00  0.00000000e+00  0.00000000e+00\n",
      "   0.00000000e+00  9.53319063e-01  0.00000000e+00  0.00000000e+00\n",
      "   0.00000000e+00  0.00000000e+00  0.00000000e+00  0.00000000e+00\n",
      "   0.00000000e+00  9.53319063e-01  0.00000000e+00  0.00000000e+00\n",
      "   0.00000000e+00  0.00000000e+00  0.00000000e+00  0.00000000e+00\n",
      "   0.00000000e+00  0.00000000e+00  0.00000000e+00  0.00000000e+00\n",
      "   0.00000000e+00  0.00000000e+00  0.00000000e+00  0.00000000e+00\n",
      "   0.00000000e+00  0.00000000e+00  0.00000000e+00  0.00000000e+00\n",
      "   0.00000000e+00  0.00000000e+00  0.00000000e+00  0.00000000e+00\n",
      "   0.00000000e+00  0.00000000e+00  0.00000000e+00  0.00000000e+00\n",
      "   0.00000000e+00  0.00000000e+00  0.00000000e+00  0.00000000e+00\n",
      "   0.00000000e+00  0.00000000e+00  0.00000000e+00  0.00000000e+00\n",
      "   0.00000000e+00  0.00000000e+00  0.00000000e+00  0.00000000e+00\n",
      "   9.53319063e-01  0.00000000e+00  0.00000000e+00  0.00000000e+00\n",
      "   0.00000000e+00  0.00000000e+00  0.00000000e+00  0.00000000e+00\n",
      "   0.00000000e+00  0.00000000e+00  0.00000000e+00  0.00000000e+00\n",
      "   0.00000000e+00  0.00000000e+00  0.00000000e+00  0.00000000e+00\n",
      "   0.00000000e+00  0.00000000e+00  0.00000000e+00  0.00000000e+00\n",
      "   0.00000000e+00  0.00000000e+00  0.00000000e+00  9.53319063e-01\n",
      "   0.00000000e+00  0.00000000e+00  0.00000000e+00  0.00000000e+00\n",
      "   0.00000000e+00  0.00000000e+00  0.00000000e+00  0.00000000e+00\n",
      "   0.00000000e+00  0.00000000e+00  0.00000000e+00  0.00000000e+00\n",
      "   0.00000000e+00  0.00000000e+00  0.00000000e+00  0.00000000e+00\n",
      "   0.00000000e+00]]\n"
     ]
    }
   ],
   "source": [
    "print(adataf.X[:1, :377])"
   ]
  },
  {
   "cell_type": "code",
   "execution_count": 23,
   "id": "94b43190-211c-4304-982c-7a00983f3d06",
   "metadata": {},
   "outputs": [
    {
     "data": {
      "text/html": [
       "<div>\n",
       "<style scoped>\n",
       "    .dataframe tbody tr th:only-of-type {\n",
       "        vertical-align: middle;\n",
       "    }\n",
       "\n",
       "    .dataframe tbody tr th {\n",
       "        vertical-align: top;\n",
       "    }\n",
       "\n",
       "    .dataframe thead th {\n",
       "        text-align: right;\n",
       "    }\n",
       "</style>\n",
       "<table border=\"1\" class=\"dataframe\">\n",
       "  <thead>\n",
       "    <tr style=\"text-align: right;\">\n",
       "      <th></th>\n",
       "      <th>batch</th>\n",
       "      <th>annotation</th>\n",
       "      <th>barcode</th>\n",
       "    </tr>\n",
       "  </thead>\n",
       "  <tbody>\n",
       "    <tr>\n",
       "      <th>0</th>\n",
       "      <td>V10F03-034_C</td>\n",
       "      <td>Tumor</td>\n",
       "      <td>AAACACCAATAACTGC-1</td>\n",
       "    </tr>\n",
       "    <tr>\n",
       "      <th>1</th>\n",
       "      <td>V10F03-034_C</td>\n",
       "      <td>Tumor</td>\n",
       "      <td>AAACAGCTTTCAGAAG-1</td>\n",
       "    </tr>\n",
       "    <tr>\n",
       "      <th>2</th>\n",
       "      <td>V10F03-034_C</td>\n",
       "      <td>Mixed</td>\n",
       "      <td>AAACAGGGTCTATATT-1</td>\n",
       "    </tr>\n",
       "    <tr>\n",
       "      <th>3</th>\n",
       "      <td>V10F03-034_C</td>\n",
       "      <td>Tumor</td>\n",
       "      <td>AAACAGTGTTCCTGGG-1</td>\n",
       "    </tr>\n",
       "    <tr>\n",
       "      <th>4</th>\n",
       "      <td>V10F03-034_C</td>\n",
       "      <td>Tumor</td>\n",
       "      <td>AAACATGGTGAGAGGA-1</td>\n",
       "    </tr>\n",
       "  </tbody>\n",
       "</table>\n",
       "</div>"
      ],
      "text/plain": [
       "          batch annotation             barcode\n",
       "0  V10F03-034_C      Tumor  AAACACCAATAACTGC-1\n",
       "1  V10F03-034_C      Tumor  AAACAGCTTTCAGAAG-1\n",
       "2  V10F03-034_C      Mixed  AAACAGGGTCTATATT-1\n",
       "3  V10F03-034_C      Tumor  AAACAGTGTTCCTGGG-1\n",
       "4  V10F03-034_C      Tumor  AAACATGGTGAGAGGA-1"
      ]
     },
     "execution_count": 23,
     "metadata": {},
     "output_type": "execute_result"
    }
   ],
   "source": [
    "adataf.obs.head()"
   ]
  },
  {
   "cell_type": "code",
   "execution_count": 62,
   "id": "0ee1cc6f-4014-41da-91dd-2f34f8fa7650",
   "metadata": {},
   "outputs": [],
   "source": [
    "adataf.write_h5ad(\"/disk2/user/cormey/outputs/S_and_T_objects/34C\")"
   ]
  },
  {
   "cell_type": "code",
   "execution_count": null,
   "id": "f966f409-3f4f-42e1-b3f3-6791a75449e2",
   "metadata": {},
   "outputs": [],
   "source": []
  }
 ],
 "metadata": {
  "kernelspec": {
   "display_name": "Python 3 (ipykernel)",
   "language": "python",
   "name": "python3"
  },
  "language_info": {
   "codemirror_mode": {
    "name": "ipython",
    "version": 3
   },
   "file_extension": ".py",
   "mimetype": "text/x-python",
   "name": "python",
   "nbconvert_exporter": "python",
   "pygments_lexer": "ipython3",
   "version": "3.12.3"
  }
 },
 "nbformat": 4,
 "nbformat_minor": 5
}
