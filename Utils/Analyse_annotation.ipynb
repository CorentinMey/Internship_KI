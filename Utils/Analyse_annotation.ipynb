{
 "cells": [
  {
   "cell_type": "markdown",
   "id": "95a3c354-e86c-4bdf-a20c-ab0056bb3dd2",
   "metadata": {},
   "source": [
    "Python script to see the count of each annotation for each ST slides"
   ]
  },
  {
   "cell_type": "markdown",
   "id": "6eb7beb3-5114-4a51-b915-b0ab4ff07d20",
   "metadata": {},
   "source": [
    "# Import"
   ]
  },
  {
   "cell_type": "code",
   "execution_count": 19,
   "id": "6ce69072-15dc-47fb-9689-0235a9c080b7",
   "metadata": {},
   "outputs": [],
   "source": [
    "import os\n",
    "import pandas as pd\n",
    "import matplotlib.pyplot as plt"
   ]
  },
  {
   "cell_type": "markdown",
   "id": "0c349486-3716-40d7-9491-68c6f7a4d8a0",
   "metadata": {},
   "source": [
    "# Input"
   ]
  },
  {
   "cell_type": "markdown",
   "id": "108fb929-69a0-4e24-b8cd-8a96c9a32a42",
   "metadata": {},
   "source": [
    "Folder containing all the pathologist's annotations"
   ]
  },
  {
   "cell_type": "code",
   "execution_count": 20,
   "id": "fd0aca0b-1e84-42cb-bcef-6f76d7345cba",
   "metadata": {},
   "outputs": [],
   "source": [
    "dpath=\"/disk2/user/cormey/annotations_stock\""
   ]
  },
  {
   "cell_type": "markdown",
   "id": "90a09c3c-993e-4ace-be80-cbab92fab77b",
   "metadata": {},
   "source": [
    "# Output"
   ]
  },
  {
   "cell_type": "markdown",
   "id": "e4e38d15-b99a-4960-a172-dc8183cda850",
   "metadata": {},
   "source": [
    "Dictionnary with in key annotation and in values the count of spot"
   ]
  },
  {
   "cell_type": "markdown",
   "id": "340988da-a731-42f4-860b-8690675da7ca",
   "metadata": {},
   "source": [
    "# Function"
   ]
  },
  {
   "cell_type": "code",
   "execution_count": 21,
   "id": "fcdfca0b-45a5-4610-94cd-04dc35ee6b4b",
   "metadata": {},
   "outputs": [
    {
     "name": "stdout",
     "output_type": "stream",
     "text": [
      "V10F03-033_A_S8_Wenwen-annotations.csv\n",
      "{'Stroma': 641, 'Fat': 692, 'Mixed': 1097, 'Benign breast': 136}\n",
      "\n",
      "\n",
      "V10F03-033_B_S8_Wenwen_annotations.csv\n",
      "{'Fat': 1687, 'Mixed': 456, 'Stroma': 828, 'Benign breast': 104}\n",
      "\n",
      "\n",
      "V10F03-033_C_S8_Wenwen-annotations.csv\n",
      "{'Tumor': 3023, 'Fat': 53, 'Mixed': 44, 'Immune cells': 9}\n",
      "\n",
      "\n",
      "V10F03-033_D_S8_Wenwen-annotations.csv\n",
      "{'Tumor': 2383, 'Mixed': 47, 'Fat': 161, 'Stroma': 12, 'Immune cells': 10}\n",
      "\n",
      "\n",
      "V10F03-034_A_S7_Wenwen-annotations.csv\n",
      "{'Mixed': 556, 'Benign breast': 187, 'Stroma': 2233, 'Out': 46, 'Fat': 42}\n",
      "\n",
      "\n",
      "V10F03-034_B_S7_Wenwen-annotations.csv\n",
      "{'Stroma': 1177, 'Benign breast': 86, 'Mixed': 182, 'Out': 31, 'Fat': 28}\n",
      "\n",
      "\n",
      "V10F03-034_C_S7_Wenwen-annotations.csv\n",
      "{'Tumor': 1209, 'Mixed': 565, 'Immune cells': 57, 'Stroma': 213, 'Benign breast': 17}\n",
      "\n",
      "\n",
      "V10F03-034_D_S7_Wenwen-annotations.csv\n",
      "{'Tumor': 1708, 'Mixed': 743, 'Stroma': 250, 'Immune cells': 105, 'Benign breast': 32}\n",
      "\n",
      "\n",
      "V10F03-035_A_S61_Wenwen-annotations.csv\n",
      "{'Fat': 444, 'Mixed': 365, 'Stroma': 278, 'Benign breast': 180}\n",
      "\n",
      "\n",
      "V10F03-035_B_S61_Wenwen-annotations.csv\n",
      "{'Stroma': 431, 'Mixed': 124, 'Benign breast': 201, 'Fat': 24}\n",
      "\n",
      "\n",
      "V10F03-035_C_S61_Wenwen-annotations.csv\n",
      "{'Tumor': 370, 'Out': 191, 'Stroma': 80, 'Mixed': 167}\n",
      "\n",
      "\n",
      "V10F03-035_D_S61_Wenwen-annotations.csv\n",
      "{'Mixed': 270, 'Out': 269, 'Stroma': 114, 'Tumor': 493, 'Benign breast': 15, 'Fat': 2}\n",
      "\n",
      "\n",
      "V10F03-036_A_S32Wenwen-annotations.csv\n",
      "{'Stroma': 705, 'Mixed': 1055, 'Fat': 1030, 'Out': 256, 'Benign breast': 266, 'Tumor': 18}\n",
      "\n",
      "\n",
      "V10F03-036_B_S20_Wenwen-annotations.csv\n",
      "{'Stroma': 267, 'Mixed': 327, 'Tumor': 1010, 'Out': 130, 'Immune cells': 31, 'Fat': 4}\n",
      "\n",
      "\n",
      "V10F03-036_C_S46_Wenwen-annotations.csv\n",
      "{'Benign breast': 692, 'Fat': 370, 'Stroma': 876, 'Mixed': 1645, 'Out': 216}\n",
      "\n",
      "\n",
      "V10F03-036_D_S45_Wenwen-annotations.csv\n",
      "{'Benign breast': 160, 'Tumor': 1314, 'Mixed': 643, 'Out': 57, 'Stroma': 24}\n",
      "\n",
      "\n",
      "V10J20-070_A_S2_Wenwen-annotations.csv\n",
      "{'Fat': 848, 'Stroma': 429, 'Immune cells': 126, 'Mixed': 280, 'Out': 136, 'Tumor': 309}\n",
      "\n",
      "\n",
      "V10J20-070_B_S33_Wenwen-annotations.csv\n",
      "{'Out': 397, 'Tumor': 539, 'Mixed': 185, 'Fat': 571, 'Stroma': 175}\n",
      "\n",
      "\n",
      "V10J20-070_C_S36_Wenwen-annotations.csv\n",
      "{'Fat': 892, 'Stroma': 347, 'Mixed': 1480, 'Out': 410}\n",
      "\n",
      "\n",
      "V10J20-070_D_S6_Wenwen-annotations.csv\n",
      "{'Fat': 297, 'Benign breast': 680, 'Mixed': 446, 'Out': 225, 'Stroma': 251}\n",
      "\n",
      "\n",
      "V10J20-071_A_S2_Wenwen-annotations.csv\n",
      "{'Mixed': 682, 'Stroma': 442, 'Fat': 171, 'Benign breast': 166}\n",
      "\n",
      "\n",
      "V10J20-071_B_S6_Wenwen-annotations.csv\n",
      "{'Tumor': 429, 'Benign breast': 1424, 'Mixed': 460, 'Out': 552, 'Stroma': 141, 'Fat': 68}\n",
      "\n",
      "\n",
      "V10J20-071_C_S32_Wenwen-annotations.csv\n",
      "{'Mixed': 1974, 'Out': 76, 'Stroma': 528, 'Tumor': 142}\n",
      "\n",
      "\n",
      "V10J20-071_D_S45_Wenwen-annotations.csv\n",
      "{'Mixed': 528, 'Stroma': 578, 'Benign breast': 81, 'Fat': 276, 'Out': 59}\n",
      "\n",
      "\n",
      "V10J20-073_A_S33_Wenwen-annotations.csv\n",
      "{'Stroma': 742, 'Mixed': 280, 'Out': 106, 'Benign breast': 156, 'Fat': 6}\n",
      "\n",
      "\n",
      "V10J20-073_B_S46_Wenwen-annotations.csv\n",
      "{'Tumor': 802, 'Stroma': 239, 'Mixed': 301, 'Fat': 57, 'Out': 36, 'Immune cells': 5}\n",
      "\n",
      "\n",
      "V10J20-073_C_S36_Wenwen-annotations.csv\n",
      "{'Out': 1275, 'Tumor': 2457, 'Mixed': 628, 'Stroma': 135}\n",
      "\n",
      "\n",
      "V10J20-073_D_S20_Wenwen-annotations.csv\n",
      "{'Stroma': 634, 'Mixed': 786, 'Benign breast': 106, 'Fat': 600, 'Immune cells': 4}\n",
      "\n",
      "\n",
      "V10J20-074_A_S2_Wenwen-annotations.csv\n",
      "{'Stroma': 476, 'Mixed': 775, 'Fat': 329, 'Out': 40, 'Benign breast': 147}\n",
      "\n",
      "\n",
      "V10J20-074_B_S20_Wenwen-annotations.csv\n",
      "{'Mixed': 809, 'Out': 260, 'Fat': 451, 'Stroma': 695, 'Benign breast': 109, 'Immune cells': 9}\n",
      "\n",
      "\n",
      "V10J20-074_C_S36_Wenwen-annotations.csv\n",
      "{'Mixed': 839, 'Tumor': 2426, 'Out': 939, 'Stroma': 251}\n",
      "\n",
      "\n",
      "V10J20-074_D_S46_Wenwen-annotations.csv\n",
      "{'Stroma': 292, 'Tumor': 857, 'Mixed': 149, 'Fat': 29, 'Out': 15}\n",
      "\n",
      "\n",
      "V10J20-083_A_S32_Wenwen-annotations.csv\n",
      "{'Stroma': 532, 'Out': 210, 'Benign breast': 327, 'Tumor': 8, 'Fat': 171, 'Mixed': 142}\n",
      "\n",
      "\n",
      "V10J20-083_B_S6_Wenwen-annotations.csv\n",
      "{'Fat': 1307, 'Out': 210, 'Tumor': 265, 'Mixed': 863, 'Benign breast': 459, 'Stroma': 144}\n",
      "\n",
      "\n",
      "V10J20-083_C_S33_Wenwen-annotations.csv\n",
      "{'Out': 161, 'Tumor': 255, 'Mixed': 74, 'Stroma': 64, 'Fat': 6}\n",
      "\n",
      "\n",
      "V10J20-083_D_S45_Wenwen-annotations.csv\n",
      "{'Benign breast': 371, 'Tumor': 357, 'Mixed': 93, 'Out': 257, 'Fat': 5, 'Stroma': 17}\n",
      "\n",
      "\n",
      "V10J20-084_A_S2_Wenwen-annotations.csv\n",
      "{'Mixed': 834, 'Stroma': 252, 'Fat': 584, 'Tumor': 283, 'Out': 53, 'Immune cells': 41}\n",
      "\n",
      "\n",
      "V10J20-084_B_S33_Wenwen-annotations.csv\n",
      "{'Mixed': 694, 'Fat': 211, 'Stroma': 692, 'Benign breast': 213, 'Out': 54}\n",
      "\n",
      "\n",
      "V10J20-084_C_S46_Wenwen-annotations.csv\n",
      "{'Stroma': 1223, 'Mixed': 1212, 'Out': 524, 'Benign breast': 381, 'Fat': 239}\n",
      "\n",
      "\n",
      "V10J20-084_D_S32_Wenwen-annotations.csv\n",
      "{'Stroma': 2115, 'Mixed': 323, 'Tumor': 144, 'Out': 68, 'Fat': 6, 'Immune cells': 10}\n",
      "\n",
      "\n",
      "V10J20-085_A_S45_Wenwen-annotations.csv\n",
      "{'Mixed': 318, 'Fat': 360, 'Out': 93, 'Benign breast': 43, 'Stroma': 446}\n",
      "\n",
      "\n",
      "V10J20-085_B_S36_Wenwen-annotations.csv\n",
      "{'Stroma': 271, 'Out': 90, 'Mixed': 74}\n",
      "\n",
      "\n",
      "V10J20-085_C_S20_Wenwen-annotations.csv\n",
      "{'Tumor': 757, 'Mixed': 621, 'Out': 233, 'Stroma': 73, 'Fat': 22, 'Immune cells': 4}\n",
      "\n",
      "\n",
      "V10J20-085_D_S6_Wenwen-annotations.csv\n",
      "{'Benign breast': 530, 'Out': 673, 'Mixed': 760, 'Tumor': 980, 'Stroma': 303, 'Fat': 12}\n",
      "\n",
      "\n",
      "V10J20-086_A_S61_Wenwen-annotations.csv\n",
      "{'Out': 73, 'Mixed': 365, 'Stroma': 209, 'Tumor': 135}\n",
      "\n",
      "\n",
      "V10J20-086_B_S61_Wenwen-annotations.csv\n",
      "{'Mixed': 267, 'Stroma': 191, 'Out': 204, 'Tumor': 153}\n",
      "\n",
      "\n",
      "V10J20-086_C_S61_Wenwen-annotations.csv\n",
      "{'Stroma': 146, 'Tumor': 1070, 'Benign breast': 34, 'Mixed': 168, 'Out': 85}\n",
      "\n",
      "\n",
      "V10J20-086_D_S8_Wenwen-annotations.csv\n",
      "{'Tumor': 2972, 'Stroma': 82, 'Mixed': 7}\n",
      "\n",
      "\n"
     ]
    }
   ],
   "source": [
    "dico_full={}\n",
    "for folder in os.listdir(dpath):\n",
    "    m_path = os.path.join(dpath, folder)\n",
    "    for file in os.listdir(m_path):\n",
    "        full_path = os.path.join(dpath, folder, file)\n",
    "        dataframe=pd.read_csv(full_path)\n",
    "        barcode_annot={}\n",
    "        for ligne in dataframe.iterrows():\n",
    "            barcode_annot[ligne[1].iloc[0]]=ligne[1].iloc[1]\n",
    "            \n",
    "        dico_count={}\n",
    "        for ligne in barcode_annot.values():\n",
    "            if pd.isna(ligne):\n",
    "                    ligne=\"Mixed\"\n",
    "            if ligne in dico_count:\n",
    "                dico_count[ligne]+=1\n",
    "            else:\n",
    "                dico_count[ligne]=1\n",
    "\n",
    "            if ligne in dico_full:\n",
    "                    dico_full[ligne]+=1\n",
    "            else:\n",
    "                dico_full[ligne]=1\n",
    "                \n",
    "        print(file)\n",
    "        print(dico_count)\n",
    "        print(\"\\n\")"
   ]
  },
  {
   "cell_type": "markdown",
   "id": "013c1d77-8fdd-439b-8281-b29f0b123690",
   "metadata": {},
   "source": [
    "Interessant for BB :\n",
    "33A\n",
    "33B\n",
    "34A\n",
    "35A\n",
    "35B\n",
    "36A +\n",
    "36C ++\n",
    "36D\n",
    "70D ++\n",
    "71B +++\n",
    "71A \n",
    "73A\n",
    "74A\n",
    "83B ++\n",
    "83D +\n",
    "84C +\n",
    "84B +\n",
    "85D ++"
   ]
  },
  {
   "cell_type": "markdown",
   "id": "e5902049-9c16-4594-8753-a86864ee7aaf",
   "metadata": {},
   "source": [
    "Interessant for IC :\n",
    "34D\n",
    "70A\n",
    "84A\n"
   ]
  },
  {
   "cell_type": "markdown",
   "id": "50cbeb0e-2892-424a-a702-2127e6725b99",
   "metadata": {},
   "source": [
    "Final choice : All 34, 36C, 70D, 71B, 83B, 85D, 70A, 84A"
   ]
  },
  {
   "cell_type": "code",
   "execution_count": 22,
   "id": "4fa763f1-1360-41b5-ab61-265961cf6748",
   "metadata": {},
   "outputs": [
    {
     "name": "stdout",
     "output_type": "stream",
     "text": [
      "{'Stroma': 21244, 'Fat': 12055, 'Mixed': 25703, 'Benign breast': 7303, 'Tumor': 26868, 'Immune cells': 411, 'Out': 8710}\n"
     ]
    }
   ],
   "source": [
    "print(dico_full)"
   ]
  },
  {
   "cell_type": "code",
   "execution_count": 23,
   "id": "0734bbf4-cfe7-45fe-9a61-f60fb44ddc03",
   "metadata": {},
   "outputs": [],
   "source": [
    "#Après 36C : 13266\n",
    "#Après 70D : 15165"
   ]
  },
  {
   "cell_type": "code",
   "execution_count": null,
   "id": "6fd2fa31-191b-4257-9734-d7bc8f5852f0",
   "metadata": {},
   "outputs": [],
   "source": []
  }
 ],
 "metadata": {
  "kernelspec": {
   "display_name": "Python 3 (ipykernel)",
   "language": "python",
   "name": "python3"
  },
  "language_info": {
   "codemirror_mode": {
    "name": "ipython",
    "version": 3
   },
   "file_extension": ".py",
   "mimetype": "text/x-python",
   "name": "python",
   "nbconvert_exporter": "python",
   "pygments_lexer": "ipython3",
   "version": "3.12.3"
  }
 },
 "nbformat": 4,
 "nbformat_minor": 5
}
