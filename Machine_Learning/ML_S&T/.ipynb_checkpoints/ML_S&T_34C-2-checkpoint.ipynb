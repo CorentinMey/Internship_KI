{
 "cells": [
  {
   "cell_type": "markdown",
   "id": "77a2dc2e-28ea-4f0b-8691-9d945c116034",
   "metadata": {},
   "source": [
    "Python module to perform machine learning on the ST data and to visualize the results. Both histopathological image data and gene expression data are used in this model. The two types of data are combined by some stacking methods or with a CNN in this script. This script was used on the slide 34C only."
   ]
  },
  {
   "cell_type": "markdown",
   "id": "2bec842e-466a-4459-b332-54bd041929c8",
   "metadata": {},
   "source": [
    "# Import"
   ]
  },
  {
   "cell_type": "code",
   "execution_count": 25,
   "id": "dd99459e-8a74-4ccb-b7f5-319b56b43348",
   "metadata": {},
   "outputs": [],
   "source": [
    "import anndata as ad\n",
    "import matplotlib.pyplot as plt\n",
    "import pandas as pd\n",
    "import numpy as np\n",
    "import os\n",
    "import seaborn as sns\n",
    "from seaborn import objects as so\n",
    "from sklearn.decomposition import PCA\n",
    "from sklearn.model_selection import train_test_split, StratifiedKFold, cross_val_score\n",
    "from sklearn.ensemble import RandomForestClassifier, GradientBoostingClassifier, StackingClassifier\n",
    "from sklearn.metrics import classification_report\n",
    "from sklearn.preprocessing import MinMaxScaler\n",
    "from sklearn.preprocessing import StandardScaler, OneHotEncoder\n",
    "from sklearn.linear_model import LogisticRegression\n",
    "from sklearn.metrics import accuracy_score\n",
    "from sklearn.model_selection import GridSearchCV\n",
    "from sklearn.svm import SVC\n",
    "from sklearn.neighbors import KNeighborsClassifier\n",
    "from sklearn.linear_model import RidgeClassifier\n",
    "from xgboost import XGBClassifier\n",
    "import umap.umap_ as umap\n",
    "import tensorflow as tf\n",
    "from tensorflow.keras.models import Sequential\n",
    "from tensorflow.keras.layers import Dense, Dropout\n",
    "from tensorflow.keras.callbacks import EarlyStopping"
   ]
  },
  {
   "cell_type": "markdown",
   "id": "f346e45b-1f90-4b73-9b18-8b5df5056ad6",
   "metadata": {},
   "source": [
    "# Input"
   ]
  },
  {
   "cell_type": "markdown",
   "id": "55c10d91-a79a-4146-8683-e36ab22478d5",
   "metadata": {},
   "source": [
    "An AnnData object containing a dataset where each row is a spot and each column is a feature (extracted from the image tiles by segmentation) or a gene. The AnnData object contains also a obs where you can find pathologist's annotation and the path to each tile. Moreover, you can find the segmentation data processed with a PCA in the obsm part of the AnnData object."
   ]
  },
  {
   "cell_type": "code",
   "execution_count": 26,
   "id": "81e8d966-dec6-48f4-9dc3-1b5d7546be66",
   "metadata": {},
   "outputs": [],
   "source": [
    "adata = ad.read_h5ad('/disk2/user/cormey/outputs/S_and_T_objects/34C')"
   ]
  },
  {
   "cell_type": "markdown",
   "id": "2dfca070-41d2-4af4-bd63-77f35db0f331",
   "metadata": {},
   "source": [
    "# Output"
   ]
  },
  {
   "cell_type": "markdown",
   "id": "83fd8968-73b3-4be7-9a56-508f6c9a5ac6",
   "metadata": {},
   "source": [
    "Some graphs to visualize the performance of the machine learning and the quality of combined features (extracted by segmentation and transcriptomics data)"
   ]
  },
  {
   "cell_type": "markdown",
   "id": "f863a200-1535-4506-911e-62fb45ecb544",
   "metadata": {},
   "source": [
    "# Perform some normalization on the data "
   ]
  },
  {
   "cell_type": "markdown",
   "id": "ecec707c-2927-4be4-92c0-2c7304851c13",
   "metadata": {},
   "source": [
    "because segmentation data and transcriptomics data have really differents scales"
   ]
  },
  {
   "cell_type": "code",
   "execution_count": 5,
   "id": "c3bbec37-e458-4597-9103-d5a31abe67c8",
   "metadata": {},
   "outputs": [],
   "source": [
    "scaler = MinMaxScaler()\n",
    "scaler.fit(adata.X)\n",
    "adata.X=scaler.transform(adata.X)"
   ]
  },
  {
   "cell_type": "code",
   "execution_count": 27,
   "id": "329b953f-4f31-4896-b09c-1c5b43c2be6a",
   "metadata": {},
   "outputs": [],
   "source": [
    "scaler = StandardScaler()\n",
    "scaler.fit(adata.X)\n",
    "adata.X=scaler.transform(adata.X)"
   ]
  },
  {
   "cell_type": "code",
   "execution_count": 28,
   "id": "f58347f9-7404-44bd-b2dc-6679cb9278e4",
   "metadata": {},
   "outputs": [],
   "source": [
    "y = adata.obs[\"annotation\"]  # Extraction of pathologist's annotation"
   ]
  },
  {
   "cell_type": "code",
   "execution_count": 29,
   "id": "7becd095-5daa-4463-aa53-ad4ea0a6d620",
   "metadata": {},
   "outputs": [],
   "source": [
    "X_train, X_test, y_train, y_test = train_test_split(adata.X, y, test_size=0.25, random_state=42)"
   ]
  },
  {
   "cell_type": "markdown",
   "id": "c9dc888b-901e-4c59-bded-1650b6e03ccf",
   "metadata": {},
   "source": [
    "# Peform some machine learning with different stacking method"
   ]
  },
  {
   "cell_type": "markdown",
   "id": "900011cc-272b-4186-8009-25f4c8a0dd8f",
   "metadata": {},
   "source": [
    "With different base estimator"
   ]
  },
  {
   "cell_type": "code",
   "execution_count": 14,
   "id": "e0ff3703-dbeb-435b-88fc-785d20a4577e",
   "metadata": {},
   "outputs": [],
   "source": [
    "# Base model\n",
    "base_estimators = [\n",
    "    ('rf', RandomForestClassifier(n_estimators=100, random_state=42)),\n",
    "    ('gb', GradientBoostingClassifier(n_estimators=100, random_state=42))\n",
    "]\n",
    "\n",
    "# Meta model\n",
    "meta_estimator = LogisticRegression()\n",
    "\n",
    "# Stratified K-Fold Cross-Validation\n",
    "skf = StratifiedKFold(n_splits=5)"
   ]
  },
  {
   "cell_type": "code",
   "execution_count": 17,
   "id": "53ed02a8-af50-4318-af9a-f3f536d2728a",
   "metadata": {},
   "outputs": [
    {
     "name": "stdout",
     "output_type": "stream",
     "text": [
      "Best parameters: {'gb__learning_rate': 0.2, 'gb__n_estimators': 100, 'rf__max_depth': None, 'rf__n_estimators': 50, 'stack_method': 'auto'}\n",
      "Best cross-validated accuracy: 0.7281553398058251\n"
     ]
    }
   ],
   "source": [
    "# Stacking Classifier\n",
    "stacking_clf = StackingClassifier(\n",
    "    estimators=base_estimators,\n",
    "    final_estimator=meta_estimator,\n",
    "    cv=skf  # Cross validation for training of the base models\n",
    ")\n",
    "\n",
    "# Hyperparameters\n",
    "param_grid = {\n",
    "    'rf__n_estimators': [50, 100, 200],\n",
    "    'rf__max_depth': [None, 10, 20],\n",
    "    'gb__n_estimators': [50, 100, 200],\n",
    "    'gb__learning_rate': [0.01, 0.1, 0.2],\n",
    "    'stack_method': ['auto', 'predict_proba']\n",
    "}\n",
    "\n",
    "# GridSearch with stratified cross validation\n",
    "grid_search = GridSearchCV(estimator=stacking_clf, param_grid=param_grid, cv=skf, scoring='accuracy', n_jobs=-1)\n",
    "\n",
    "# Training of the model with GridSearch\n",
    "grid_search.fit(X_train, y_train)\n",
    "\n",
    "# Best parameters\n",
    "print(\"Best parameters:\", grid_search.best_params_)\n",
    "print(\"Best cross-validated accuracy:\", grid_search.best_score_)\n"
   ]
  },
  {
   "cell_type": "code",
   "execution_count": 18,
   "id": "6610e38c-6330-4199-aa3b-2aa89e4be695",
   "metadata": {},
   "outputs": [
    {
     "name": "stdout",
     "output_type": "stream",
     "text": [
      "Test set accuracy: 0.7131782945736435\n"
     ]
    }
   ],
   "source": [
    "# Use the best parameters to predict\n",
    "best_model = grid_search.best_estimator_\n",
    "y_pred = best_model.predict(X_test)\n",
    "\n",
    "# Evaluate the model\n",
    "accuracy = accuracy_score(y_test, y_pred)\n",
    "print(\"Test set accuracy:\", accuracy)"
   ]
  },
  {
   "cell_type": "code",
   "execution_count": 21,
   "id": "affda759-82c2-47d8-a715-30f60b0dfcd8",
   "metadata": {},
   "outputs": [],
   "source": [
    "# Base model\n",
    "base_estimators = [\n",
    "    ('rf', RandomForestClassifier(n_estimators=100, random_state=42)),\n",
    "    ('svc', SVC(probability=True, random_state=42))\n",
    "]\n",
    "\n",
    "# Meta model\n",
    "meta_estimator = LogisticRegression()\n",
    "\n",
    "# Stratified K-Fold Cross-Validation\n",
    "skf = StratifiedKFold(n_splits=5)"
   ]
  },
  {
   "cell_type": "code",
   "execution_count": 22,
   "id": "60381cab-ddaf-4232-9b76-2473f8c7d66a",
   "metadata": {},
   "outputs": [
    {
     "name": "stdout",
     "output_type": "stream",
     "text": [
      "Best parameters: {'rf__max_depth': None, 'rf__n_estimators': 50, 'stack_method': 'auto', 'svc__C': 10, 'svc__kernel': 'rbf'}\n",
      "Best cross-validated accuracy: 0.7210355987055015\n"
     ]
    }
   ],
   "source": [
    "# Stacking Classifier\n",
    "stacking_clf = StackingClassifier(\n",
    "    estimators=base_estimators,\n",
    "    final_estimator=meta_estimator,\n",
    "    cv=skf \n",
    ")\n",
    "\n",
    "\n",
    "param_grid = {\n",
    "    'rf__n_estimators': [50],\n",
    "    'rf__max_depth': [None],\n",
    "    'svc__C': [0.1, 1, 10],\n",
    "    'svc__kernel': ['linear', 'rbf'],\n",
    "    'stack_method': ['auto']\n",
    "}\n",
    "\n",
    "# GridSearch with stratified cross validation\n",
    "grid_search = GridSearchCV(estimator=stacking_clf, param_grid=param_grid, cv=skf, scoring='accuracy', n_jobs=-1)\n",
    "\n",
    "grid_search.fit(X_train, y_train)\n",
    "\n",
    "print(\"Best parameters:\", grid_search.best_params_)\n",
    "print(\"Best cross-validated accuracy:\", grid_search.best_score_)\n"
   ]
  },
  {
   "cell_type": "code",
   "execution_count": 23,
   "id": "c5ea7b0e-3bc1-42b5-bcdc-6de510b470f0",
   "metadata": {},
   "outputs": [
    {
     "name": "stdout",
     "output_type": "stream",
     "text": [
      "Test set accuracy: 0.7228682170542635\n"
     ]
    }
   ],
   "source": [
    "# Use the best parameters to predict\n",
    "best_model = grid_search.best_estimator_\n",
    "y_pred = best_model.predict(X_test)\n",
    "\n",
    "# Evaluate the model\n",
    "accuracy = accuracy_score(y_test, y_pred)\n",
    "print(\"Test set accuracy:\", accuracy)"
   ]
  },
  {
   "cell_type": "code",
   "execution_count": 24,
   "id": "abb33d60-019a-4430-aa86-4b8f0e0080dd",
   "metadata": {},
   "outputs": [],
   "source": [
    "# Base model\n",
    "base_estimators = [\n",
    "    ('rf', RandomForestClassifier(random_state=42)),\n",
    "    ('gb', GradientBoostingClassifier(random_state=42)),\n",
    "    ('svc', SVC(probability=True, random_state=42)),\n",
    "    ('knn', KNeighborsClassifier())\n",
    "]\n",
    "\n",
    "# Meta model\n",
    "meta_estimator = LogisticRegression()\n",
    "\n",
    "# Stratified K-Fold Cross-Validation\n",
    "skf = StratifiedKFold(n_splits=5)"
   ]
  },
  {
   "cell_type": "code",
   "execution_count": 25,
   "id": "bf8a81a7-209b-43c7-826a-069a1ef9bfad",
   "metadata": {},
   "outputs": [
    {
     "name": "stdout",
     "output_type": "stream",
     "text": [
      "Best parameters: {'gb__learning_rate': 0.2, 'gb__n_estimators': 100, 'knn__n_neighbors': 7, 'rf__max_depth': None, 'rf__n_estimators': 50, 'stack_method': 'auto', 'svc__C': 10, 'svc__kernel': 'rbf'}\n",
      "Best cross-validated accuracy: 0.7242718446601943\n"
     ]
    }
   ],
   "source": [
    "# Stacking Classifier\n",
    "stacking_clf = StackingClassifier(\n",
    "    estimators=base_estimators,\n",
    "    final_estimator=meta_estimator,\n",
    "    cv=skf  \n",
    ")\n",
    "\n",
    "param_grid = {\n",
    "    'rf__n_estimators': [50],\n",
    "    'rf__max_depth': [None],\n",
    "    'gb__n_estimators': [100],\n",
    "    'gb__learning_rate': [0.2],\n",
    "    'svc__C': [10],\n",
    "    'svc__kernel': ['rbf'],\n",
    "    'knn__n_neighbors': [3, 5, 7],\n",
    "    'stack_method': ['auto']\n",
    "}\n",
    "\n",
    "# GridSearch with stratified cross validation\n",
    "grid_search = GridSearchCV(estimator=stacking_clf, param_grid=param_grid, cv=skf, scoring='accuracy', n_jobs=-1)\n",
    "\n",
    "grid_search.fit(X_train, y_train)\n",
    "\n",
    "print(\"Best parameters:\", grid_search.best_params_)\n",
    "print(\"Best cross-validated accuracy:\", grid_search.best_score_)\n"
   ]
  },
  {
   "cell_type": "code",
   "execution_count": 26,
   "id": "09c47ab3-04db-4121-b5d4-9d33685f0d42",
   "metadata": {},
   "outputs": [
    {
     "name": "stdout",
     "output_type": "stream",
     "text": [
      "Test set accuracy: 0.7248062015503876\n"
     ]
    }
   ],
   "source": [
    "# Use the best parameters to predict\n",
    "best_model = grid_search.best_estimator_\n",
    "y_pred = best_model.predict(X_test)\n",
    "\n",
    "# Evaluate the model\n",
    "accuracy = accuracy_score(y_test, y_pred)\n",
    "print(\"Test set accuracy:\", accuracy)"
   ]
  },
  {
   "cell_type": "markdown",
   "id": "5ad74d1e-d499-4f0e-b7b1-b91e201d14d7",
   "metadata": {},
   "source": [
    "With best base model parameters and with different meta estimators"
   ]
  },
  {
   "cell_type": "code",
   "execution_count": 29,
   "id": "cad78e18-b3ad-4131-a667-a515c26583c7",
   "metadata": {},
   "outputs": [],
   "source": [
    "# Base model\n",
    "base_estimators = [\n",
    "    ('rf', RandomForestClassifier(random_state=42)),\n",
    "    ('gb', GradientBoostingClassifier(random_state=42)),\n",
    "    ('svc', SVC(probability=True, random_state=42)),\n",
    "    ('knn', KNeighborsClassifier())\n",
    "]\n",
    "\n",
    "# Meta model\n",
    "meta_estimator = RidgeClassifier()\n",
    "\n",
    "# Stratified K-Fold Cross-Validation\n",
    "skf = StratifiedKFold(n_splits=5)"
   ]
  },
  {
   "cell_type": "code",
   "execution_count": 30,
   "id": "de4fdbfd-91a3-45e5-92e1-d4f4f7e96da9",
   "metadata": {},
   "outputs": [
    {
     "name": "stdout",
     "output_type": "stream",
     "text": [
      "Best parameters: {'gb__learning_rate': 0.2, 'gb__n_estimators': 100, 'knn__n_neighbors': 7, 'rf__max_depth': None, 'rf__n_estimators': 50, 'stack_method': 'auto', 'svc__C': 10, 'svc__kernel': 'rbf'}\n",
      "Best cross-validated accuracy: 0.7288025889967636\n"
     ]
    }
   ],
   "source": [
    "# Stacking Classifier\n",
    "stacking_clf = StackingClassifier(\n",
    "    estimators=base_estimators,\n",
    "    final_estimator=meta_estimator,\n",
    "    cv=skf \n",
    ")\n",
    "\n",
    "param_grid = {\n",
    "    'rf__n_estimators': [50],\n",
    "    'rf__max_depth': [None],\n",
    "    'gb__n_estimators': [100],\n",
    "    'gb__learning_rate': [0.2],\n",
    "    'svc__C': [10],\n",
    "    'svc__kernel': ['rbf'],\n",
    "    'knn__n_neighbors': [7],\n",
    "    'stack_method': ['auto']\n",
    "}\n",
    "\n",
    "# GridSearch with stratified cross validation\n",
    "grid_search = GridSearchCV(estimator=stacking_clf, param_grid=param_grid, cv=skf, scoring='accuracy', n_jobs=-1)\n",
    "\n",
    "grid_search.fit(X_train, y_train)\n",
    "\n",
    "print(\"Best parameters:\", grid_search.best_params_)\n",
    "print(\"Best cross-validated accuracy:\", grid_search.best_score_)\n"
   ]
  },
  {
   "cell_type": "code",
   "execution_count": 31,
   "id": "3069619c-226d-4a98-be7b-25417f37ef62",
   "metadata": {},
   "outputs": [
    {
     "name": "stdout",
     "output_type": "stream",
     "text": [
      "Test set accuracy: 0.7170542635658915\n"
     ]
    }
   ],
   "source": [
    "# Use the best parameters to predict\n",
    "best_model = grid_search.best_estimator_\n",
    "y_pred = best_model.predict(X_test)\n",
    "\n",
    "# Evaluate the model\n",
    "accuracy = accuracy_score(y_test, y_pred)\n",
    "print(\"Test set accuracy:\", accuracy)"
   ]
  },
  {
   "cell_type": "code",
   "execution_count": 10,
   "id": "7b77f360-ce27-4dc8-8654-23b80594ccec",
   "metadata": {},
   "outputs": [],
   "source": [
    "# Base model\n",
    "base_estimators = [\n",
    "    ('rf', RandomForestClassifier(random_state=42)),\n",
    "    ('gb', GradientBoostingClassifier(random_state=42)),\n",
    "    ('svc', SVC(probability=True, random_state=42)),\n",
    "    ('knn', KNeighborsClassifier())\n",
    "]\n",
    "\n",
    "# Meta model\n",
    "meta_estimator = XGBClassifier(n_estimators=100, random_state=42)\n",
    "\n",
    "# Stratified K-Fold Cross-Validation\n",
    "skf = StratifiedKFold(n_splits=5)"
   ]
  },
  {
   "cell_type": "code",
   "execution_count": 12,
   "id": "d3aac833-0e43-4182-be0e-8d5efd88d5eb",
   "metadata": {},
   "outputs": [
    {
     "name": "stdout",
     "output_type": "stream",
     "text": [
      "Best parameters: {'gb__learning_rate': 0.2, 'gb__n_estimators': 100, 'knn__n_neighbors': 7, 'rf__max_depth': None, 'rf__n_estimators': 50, 'stack_method': 'auto', 'svc__C': 10, 'svc__kernel': 'rbf'}\n",
      "Best cross-validated accuracy: 0.6893203883495146\n"
     ]
    }
   ],
   "source": [
    "# Stacking Classifier\n",
    "stacking_clf = StackingClassifier(\n",
    "    estimators=base_estimators,\n",
    "    final_estimator=meta_estimator,\n",
    "    cv=skf  \n",
    ")\n",
    "\n",
    "param_grid = {\n",
    "    'rf__n_estimators': [50],\n",
    "    'rf__max_depth': [None],\n",
    "    'gb__n_estimators': [100],\n",
    "    'gb__learning_rate': [0.2],\n",
    "    'svc__C': [10],\n",
    "    'svc__kernel': ['rbf'],\n",
    "    'knn__n_neighbors': [7],\n",
    "    'stack_method': ['auto']\n",
    "}\n",
    "\n",
    "# GridSearch with stratified cross validation\n",
    "grid_search = GridSearchCV(estimator=stacking_clf, param_grid=param_grid, cv=skf, scoring='accuracy', n_jobs=-1)\n",
    "\n",
    "grid_search.fit(X_train, y_train)\n",
    "\n",
    "print(\"Best parameters:\", grid_search.best_params_)\n",
    "print(\"Best cross-validated accuracy:\", grid_search.best_score_)\n"
   ]
  },
  {
   "cell_type": "code",
   "execution_count": 13,
   "id": "f21d7cd2-33b9-4712-a5c5-a3ae563415f3",
   "metadata": {},
   "outputs": [
    {
     "name": "stdout",
     "output_type": "stream",
     "text": [
      "Test set accuracy: 0.689922480620155\n"
     ]
    }
   ],
   "source": [
    "# Use the best parameters to predict\n",
    "best_model = grid_search.best_estimator_\n",
    "y_pred = best_model.predict(X_test)\n",
    "\n",
    "# Evaluate the model\n",
    "accuracy = accuracy_score(y_test, y_pred)\n",
    "print(\"Test set accuracy:\", accuracy)"
   ]
  },
  {
   "cell_type": "markdown",
   "id": "017daf57-60d5-47e0-a50f-0dde0138ac9e",
   "metadata": {},
   "source": [
    "# Use a CNN"
   ]
  },
  {
   "cell_type": "code",
   "execution_count": 30,
   "id": "de19b85e-8f03-4d8b-aa36-8a020ca4e783",
   "metadata": {},
   "outputs": [],
   "source": [
    "# Conversion of labels one-hot encoding\n",
    "encoder = OneHotEncoder(sparse_output=False)\n",
    "\n",
    "#Conversion in numpy array\n",
    "y_train_np = np.array(y_train).reshape(-1, 1)\n",
    "y_test_np = np.array(y_test).reshape(-1, 1)\n",
    "\n",
    "y_train = encoder.fit_transform(y_train_np.reshape(-1, 1))\n",
    "y_test = encoder.transform(y_test_np.reshape(-1, 1))"
   ]
  },
  {
   "cell_type": "code",
   "execution_count": 97,
   "id": "eae0128c-808b-491d-b783-3540516470e8",
   "metadata": {},
   "outputs": [
    {
     "name": "stderr",
     "output_type": "stream",
     "text": [
      "/disk2/user/cormey/environments/test_env/lib/python3.12/site-packages/keras/src/layers/core/dense.py:87: UserWarning: Do not pass an `input_shape`/`input_dim` argument to a layer. When using Sequential models, prefer using an `Input(shape)` object as the first layer in the model instead.\n",
      "  super().__init__(activity_regularizer=activity_regularizer, **kwargs)\n"
     ]
    }
   ],
   "source": [
    "def create_model(optimizer, dropout_rate, neurons):\n",
    "    model = Sequential()\n",
    "    model.add(Dense(neurons, input_dim=X_train.shape[1], activation='relu'))\n",
    "    model.add(Dropout(dropout_rate))\n",
    "    model.add(Dense(neurons, activation='relu'))\n",
    "    model.add(Dropout(dropout_rate))\n",
    "    model.add(Dense(5, activation='softmax'))\n",
    "    \n",
    "    # Compile the model\n",
    "    model.compile(optimizer=optimizer,\n",
    "                  loss='categorical_crossentropy',\n",
    "                  metrics=['accuracy'])\n",
    "    \n",
    "    return model\n",
    "\n",
    "model = create_model(optimizer='rmsprop', dropout_rate=0.5, neurons=32)"
   ]
  },
  {
   "cell_type": "code",
   "execution_count": 98,
   "id": "19e40984-39e7-4f19-bfe3-7b8216bfa7eb",
   "metadata": {},
   "outputs": [
    {
     "name": "stdout",
     "output_type": "stream",
     "text": [
      "Epoch 1/100\n",
      "\u001b[1m39/39\u001b[0m \u001b[32m━━━━━━━━━━━━━━━━━━━━\u001b[0m\u001b[37m\u001b[0m \u001b[1m5s\u001b[0m 66ms/step - accuracy: 0.2599 - loss: 2.0169 - val_accuracy: 0.5761 - val_loss: 1.1969\n",
      "Epoch 2/100\n",
      "\u001b[1m39/39\u001b[0m \u001b[32m━━━━━━━━━━━━━━━━━━━━\u001b[0m\u001b[37m\u001b[0m \u001b[1m0s\u001b[0m 2ms/step - accuracy: 0.5011 - loss: 1.4747 - val_accuracy: 0.6343 - val_loss: 1.0265\n",
      "Epoch 3/100\n",
      "\u001b[1m39/39\u001b[0m \u001b[32m━━━━━━━━━━━━━━━━━━━━\u001b[0m\u001b[37m\u001b[0m \u001b[1m0s\u001b[0m 2ms/step - accuracy: 0.5571 - loss: 1.2526 - val_accuracy: 0.6699 - val_loss: 0.9533\n",
      "Epoch 4/100\n",
      "\u001b[1m39/39\u001b[0m \u001b[32m━━━━━━━━━━━━━━━━━━━━\u001b[0m\u001b[37m\u001b[0m \u001b[1m0s\u001b[0m 2ms/step - accuracy: 0.6051 - loss: 1.0546 - val_accuracy: 0.6828 - val_loss: 0.9141\n",
      "Epoch 5/100\n",
      "\u001b[1m39/39\u001b[0m \u001b[32m━━━━━━━━━━━━━━━━━━━━\u001b[0m\u001b[37m\u001b[0m \u001b[1m0s\u001b[0m 2ms/step - accuracy: 0.6223 - loss: 1.0321 - val_accuracy: 0.6893 - val_loss: 0.8980\n",
      "Epoch 6/100\n",
      "\u001b[1m39/39\u001b[0m \u001b[32m━━━━━━━━━━━━━━━━━━━━\u001b[0m\u001b[37m\u001b[0m \u001b[1m0s\u001b[0m 2ms/step - accuracy: 0.6177 - loss: 1.0414 - val_accuracy: 0.6861 - val_loss: 0.8894\n",
      "Epoch 7/100\n",
      "\u001b[1m39/39\u001b[0m \u001b[32m━━━━━━━━━━━━━━━━━━━━\u001b[0m\u001b[37m\u001b[0m \u001b[1m0s\u001b[0m 2ms/step - accuracy: 0.6628 - loss: 0.9070 - val_accuracy: 0.6796 - val_loss: 0.8781\n",
      "Epoch 8/100\n",
      "\u001b[1m39/39\u001b[0m \u001b[32m━━━━━━━━━━━━━━━━━━━━\u001b[0m\u001b[37m\u001b[0m \u001b[1m0s\u001b[0m 2ms/step - accuracy: 0.6712 - loss: 0.8909 - val_accuracy: 0.6828 - val_loss: 0.8737\n",
      "Epoch 9/100\n",
      "\u001b[1m39/39\u001b[0m \u001b[32m━━━━━━━━━━━━━━━━━━━━\u001b[0m\u001b[37m\u001b[0m \u001b[1m0s\u001b[0m 2ms/step - accuracy: 0.6922 - loss: 0.8740 - val_accuracy: 0.6764 - val_loss: 0.8681\n",
      "Epoch 10/100\n",
      "\u001b[1m39/39\u001b[0m \u001b[32m━━━━━━━━━━━━━━━━━━━━\u001b[0m\u001b[37m\u001b[0m \u001b[1m0s\u001b[0m 2ms/step - accuracy: 0.6623 - loss: 0.8573 - val_accuracy: 0.6926 - val_loss: 0.8657\n",
      "Epoch 11/100\n",
      "\u001b[1m39/39\u001b[0m \u001b[32m━━━━━━━━━━━━━━━━━━━━\u001b[0m\u001b[37m\u001b[0m \u001b[1m0s\u001b[0m 2ms/step - accuracy: 0.7144 - loss: 0.7845 - val_accuracy: 0.6828 - val_loss: 0.8705\n",
      "Epoch 12/100\n",
      "\u001b[1m39/39\u001b[0m \u001b[32m━━━━━━━━━━━━━━━━━━━━\u001b[0m\u001b[37m\u001b[0m \u001b[1m0s\u001b[0m 2ms/step - accuracy: 0.7207 - loss: 0.8347 - val_accuracy: 0.6731 - val_loss: 0.8663\n",
      "Epoch 13/100\n",
      "\u001b[1m39/39\u001b[0m \u001b[32m━━━━━━━━━━━━━━━━━━━━\u001b[0m\u001b[37m\u001b[0m \u001b[1m0s\u001b[0m 2ms/step - accuracy: 0.7062 - loss: 0.7936 - val_accuracy: 0.6828 - val_loss: 0.8779\n",
      "Epoch 14/100\n",
      "\u001b[1m39/39\u001b[0m \u001b[32m━━━━━━━━━━━━━━━━━━━━\u001b[0m\u001b[37m\u001b[0m \u001b[1m0s\u001b[0m 2ms/step - accuracy: 0.7213 - loss: 0.7796 - val_accuracy: 0.6828 - val_loss: 0.8737\n",
      "Epoch 15/100\n",
      "\u001b[1m39/39\u001b[0m \u001b[32m━━━━━━━━━━━━━━━━━━━━\u001b[0m\u001b[37m\u001b[0m \u001b[1m0s\u001b[0m 2ms/step - accuracy: 0.7427 - loss: 0.7059 - val_accuracy: 0.6893 - val_loss: 0.8919\n",
      "Epoch 16/100\n",
      "\u001b[1m39/39\u001b[0m \u001b[32m━━━━━━━━━━━━━━━━━━━━\u001b[0m\u001b[37m\u001b[0m \u001b[1m0s\u001b[0m 2ms/step - accuracy: 0.7161 - loss: 0.7569 - val_accuracy: 0.6893 - val_loss: 0.8905\n",
      "Epoch 17/100\n",
      "\u001b[1m39/39\u001b[0m \u001b[32m━━━━━━━━━━━━━━━━━━━━\u001b[0m\u001b[37m\u001b[0m \u001b[1m0s\u001b[0m 2ms/step - accuracy: 0.7288 - loss: 0.7394 - val_accuracy: 0.6893 - val_loss: 0.8940\n",
      "Epoch 18/100\n",
      "\u001b[1m39/39\u001b[0m \u001b[32m━━━━━━━━━━━━━━━━━━━━\u001b[0m\u001b[37m\u001b[0m \u001b[1m0s\u001b[0m 2ms/step - accuracy: 0.7168 - loss: 0.6907 - val_accuracy: 0.6828 - val_loss: 0.8987\n",
      "Epoch 19/100\n",
      "\u001b[1m39/39\u001b[0m \u001b[32m━━━━━━━━━━━━━━━━━━━━\u001b[0m\u001b[37m\u001b[0m \u001b[1m0s\u001b[0m 2ms/step - accuracy: 0.7143 - loss: 0.7413 - val_accuracy: 0.6861 - val_loss: 0.9002\n",
      "Epoch 20/100\n",
      "\u001b[1m39/39\u001b[0m \u001b[32m━━━━━━━━━━━━━━━━━━━━\u001b[0m\u001b[37m\u001b[0m \u001b[1m0s\u001b[0m 2ms/step - accuracy: 0.7451 - loss: 0.7181 - val_accuracy: 0.6958 - val_loss: 0.9097\n"
     ]
    }
   ],
   "source": [
    "# Define callbacks\n",
    "early_stopping = EarlyStopping(monitor='val_loss', patience=10, restore_best_weights=True)\n",
    "\n",
    "# Train\n",
    "history = model.fit(X_train, y_train,\n",
    "                    validation_split=0.2,\n",
    "                    epochs=100,\n",
    "                    batch_size=32,\n",
    "                    callbacks=[early_stopping],\n",
    "                    verbose=1)"
   ]
  },
  {
   "cell_type": "code",
   "execution_count": 99,
   "id": "134d05e4-c268-44a6-b573-f8b2470cac51",
   "metadata": {},
   "outputs": [
    {
     "name": "stdout",
     "output_type": "stream",
     "text": [
      "Test Accuracy: 0.6802\n",
      "\u001b[1m17/17\u001b[0m \u001b[32m━━━━━━━━━━━━━━━━━━━━\u001b[0m\u001b[37m\u001b[0m \u001b[1m0s\u001b[0m 7ms/step\n",
      "Accuracy: 0.6802\n"
     ]
    }
   ],
   "source": [
    "# Evaluate the performance\n",
    "loss, accuracy = model.evaluate(X_test, y_test, verbose=0)\n",
    "print(f'Test Accuracy: {accuracy:.4f}')\n",
    "\n",
    "y_pred = model.predict(X_test)\n",
    "y_pred_classes = np.argmax(y_pred, axis=1)\n",
    "y_test_classes = np.argmax(y_test, axis=1)\n",
    "\n",
    "accuracy = accuracy_score(y_test_classes, y_pred_classes)\n",
    "print(f'Accuracy: {accuracy:.4f}')"
   ]
  },
  {
   "cell_type": "code",
   "execution_count": 34,
   "id": "8ab82904-118c-4b66-be4a-a240bcad3685",
   "metadata": {},
   "outputs": [
    {
     "name": "stdout",
     "output_type": "stream",
     "text": [
      "              precision    recall  f1-score   support\n",
      "\n",
      "           0       0.00      0.00      0.00         4\n",
      "           1       0.00      0.00      0.00        13\n",
      "           2       0.51      0.61      0.55       143\n",
      "           3       0.60      0.05      0.10        55\n",
      "           4       0.78      0.88      0.82       301\n",
      "\n",
      "    accuracy                           0.69       516\n",
      "   macro avg       0.38      0.31      0.30       516\n",
      "weighted avg       0.66      0.69      0.64       516\n",
      "\n"
     ]
    },
    {
     "name": "stderr",
     "output_type": "stream",
     "text": [
      "/disk2/user/cormey/environments/test_env/lib/python3.12/site-packages/sklearn/metrics/_classification.py:1517: UndefinedMetricWarning: Precision is ill-defined and being set to 0.0 in labels with no predicted samples. Use `zero_division` parameter to control this behavior.\n",
      "  _warn_prf(average, modifier, f\"{metric.capitalize()} is\", len(result))\n",
      "/disk2/user/cormey/environments/test_env/lib/python3.12/site-packages/sklearn/metrics/_classification.py:1517: UndefinedMetricWarning: Precision is ill-defined and being set to 0.0 in labels with no predicted samples. Use `zero_division` parameter to control this behavior.\n",
      "  _warn_prf(average, modifier, f\"{metric.capitalize()} is\", len(result))\n",
      "/disk2/user/cormey/environments/test_env/lib/python3.12/site-packages/sklearn/metrics/_classification.py:1517: UndefinedMetricWarning: Precision is ill-defined and being set to 0.0 in labels with no predicted samples. Use `zero_division` parameter to control this behavior.\n",
      "  _warn_prf(average, modifier, f\"{metric.capitalize()} is\", len(result))\n"
     ]
    }
   ],
   "source": [
    "print(classification_report(y_test_classes, y_pred_classes))"
   ]
  },
  {
   "cell_type": "code",
   "execution_count": null,
   "id": "87e3dd70-8383-437c-bf52-27171dd4b11c",
   "metadata": {},
   "outputs": [],
   "source": []
  }
 ],
 "metadata": {
  "kernelspec": {
   "display_name": "Python 3 (ipykernel)",
   "language": "python",
   "name": "python3"
  },
  "language_info": {
   "codemirror_mode": {
    "name": "ipython",
    "version": 3
   },
   "file_extension": ".py",
   "mimetype": "text/x-python",
   "name": "python",
   "nbconvert_exporter": "python",
   "pygments_lexer": "ipython3",
   "version": "3.8.10"
  }
 },
 "nbformat": 4,
 "nbformat_minor": 5
}
